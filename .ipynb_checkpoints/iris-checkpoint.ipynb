{
 "cells": [
  {
   "cell_type": "code",
   "execution_count": 1,
   "metadata": {},
   "outputs": [
    {
     "name": "stderr",
     "output_type": "stream",
     "text": [
      "Using TensorFlow backend.\n"
     ]
    }
   ],
   "source": [
    "import pandas as pd\n",
    "from sklearn import preprocessing\n",
    "from sklearn.model_selection import train_test_split\n",
    "from keras.models import Sequential\n",
    "from keras.layers import Dense\n",
    "import matplotlib.pyplot as plt\n",
    "from keras.layers import Dropout\n",
    "from keras import regularizers"
   ]
  },
  {
   "cell_type": "code",
   "execution_count": 2,
   "metadata": {},
   "outputs": [],
   "source": [
    "df = pd.read_csv('./data/Iris2.csv')"
   ]
  },
  {
   "cell_type": "code",
   "execution_count": 3,
   "metadata": {},
   "outputs": [],
   "source": [
    "#df # Species (1=Iris-setosa; 2=Iris-versicolor and 3=Iris-virginica)"
   ]
  },
  {
   "cell_type": "code",
   "execution_count": 4,
   "metadata": {},
   "outputs": [],
   "source": [
    "dataset = df.values"
   ]
  },
  {
   "cell_type": "code",
   "execution_count": 30,
   "metadata": {},
   "outputs": [
    {
     "data": {
      "text/html": [
       "<div>\n",
       "<style scoped>\n",
       "    .dataframe tbody tr th:only-of-type {\n",
       "        vertical-align: middle;\n",
       "    }\n",
       "\n",
       "    .dataframe tbody tr th {\n",
       "        vertical-align: top;\n",
       "    }\n",
       "\n",
       "    .dataframe thead th {\n",
       "        text-align: right;\n",
       "    }\n",
       "</style>\n",
       "<table border=\"1\" class=\"dataframe\">\n",
       "  <thead>\n",
       "    <tr style=\"text-align: right;\">\n",
       "      <th></th>\n",
       "      <th>Id</th>\n",
       "      <th>SepalLengthCm</th>\n",
       "      <th>SepalWidthCm</th>\n",
       "      <th>PetalLengthCm</th>\n",
       "      <th>PetalWidthCm</th>\n",
       "      <th>Species</th>\n",
       "    </tr>\n",
       "  </thead>\n",
       "  <tbody>\n",
       "    <tr>\n",
       "      <th>0</th>\n",
       "      <td>1</td>\n",
       "      <td>5.1</td>\n",
       "      <td>3.5</td>\n",
       "      <td>1.4</td>\n",
       "      <td>0.2</td>\n",
       "      <td>1</td>\n",
       "    </tr>\n",
       "    <tr>\n",
       "      <th>1</th>\n",
       "      <td>2</td>\n",
       "      <td>4.9</td>\n",
       "      <td>3.0</td>\n",
       "      <td>1.4</td>\n",
       "      <td>0.2</td>\n",
       "      <td>1</td>\n",
       "    </tr>\n",
       "    <tr>\n",
       "      <th>2</th>\n",
       "      <td>3</td>\n",
       "      <td>4.7</td>\n",
       "      <td>3.2</td>\n",
       "      <td>1.3</td>\n",
       "      <td>0.2</td>\n",
       "      <td>1</td>\n",
       "    </tr>\n",
       "    <tr>\n",
       "      <th>3</th>\n",
       "      <td>4</td>\n",
       "      <td>4.6</td>\n",
       "      <td>3.1</td>\n",
       "      <td>1.5</td>\n",
       "      <td>0.2</td>\n",
       "      <td>1</td>\n",
       "    </tr>\n",
       "    <tr>\n",
       "      <th>4</th>\n",
       "      <td>5</td>\n",
       "      <td>5.0</td>\n",
       "      <td>3.6</td>\n",
       "      <td>1.4</td>\n",
       "      <td>0.2</td>\n",
       "      <td>1</td>\n",
       "    </tr>\n",
       "  </tbody>\n",
       "</table>\n",
       "</div>"
      ],
      "text/plain": [
       "   Id  SepalLengthCm  SepalWidthCm  PetalLengthCm  PetalWidthCm  Species\n",
       "0   1            5.1           3.5            1.4           0.2        1\n",
       "1   2            4.9           3.0            1.4           0.2        1\n",
       "2   3            4.7           3.2            1.3           0.2        1\n",
       "3   4            4.6           3.1            1.5           0.2        1\n",
       "4   5            5.0           3.6            1.4           0.2        1"
      ]
     },
     "execution_count": 30,
     "metadata": {},
     "output_type": "execute_result"
    }
   ],
   "source": [
    " df.head(5)"
   ]
  },
  {
   "cell_type": "code",
   "execution_count": 62,
   "metadata": {},
   "outputs": [
    {
     "data": {
      "text/plain": [
       "False"
      ]
     },
     "execution_count": 62,
     "metadata": {},
     "output_type": "execute_result"
    }
   ],
   "source": [
    "df.isnull().values.any()"
   ]
  },
  {
   "cell_type": "code",
   "execution_count": 47,
   "metadata": {},
   "outputs": [],
   "source": [
    "X = dataset[:,0:5] "
   ]
  },
  {
   "cell_type": "code",
   "execution_count": 48,
   "metadata": {},
   "outputs": [],
   "source": [
    "Y = dataset[:,5]"
   ]
  },
  {
   "cell_type": "code",
   "execution_count": 49,
   "metadata": {},
   "outputs": [],
   "source": [
    "min_max_scaler = preprocessing.MinMaxScaler()\n",
    "X_scale = min_max_scaler.fit_transform(X)"
   ]
  },
  {
   "cell_type": "code",
   "execution_count": 66,
   "metadata": {},
   "outputs": [],
   "source": [
    "#X_scale"
   ]
  },
  {
   "cell_type": "code",
   "execution_count": 67,
   "metadata": {},
   "outputs": [],
   "source": [
    "X_train, X_val_and_test, Y_train, Y_val_and_test = train_test_split(X_scale, Y, test_size=0.3) "
   ]
  },
  {
   "cell_type": "code",
   "execution_count": 68,
   "metadata": {},
   "outputs": [],
   "source": [
    "X_val, X_test, Y_val, Y_test = train_test_split(X_val_and_test, Y_val_and_test, test_size=0.5)"
   ]
  },
  {
   "cell_type": "code",
   "execution_count": 69,
   "metadata": {},
   "outputs": [],
   "source": [
    "#X_train (5 input features, 70% of full dataset)\n",
    "#X_val (5 input features, 15% of full dataset)\n",
    "#X_test (5 input features, 15% of full dataset)\n",
    "#Y_train (1 label, 70% of full dataset)\n",
    "#Y_val (1 label, 15% of full dataset)\n",
    "#Y_test (1 label, 15% of full dataset)"
   ]
  },
  {
   "cell_type": "code",
   "execution_count": 61,
   "metadata": {},
   "outputs": [
    {
     "name": "stdout",
     "output_type": "stream",
     "text": [
      "(45, 5) (73, 5) (32, 5) (45,) (73,) (32,)\n"
     ]
    }
   ],
   "source": [
    "print(X_train.shape, X_val.shape, X_test.shape, Y_train.shape, Y_val.shape, Y_test.shape)"
   ]
  },
  {
   "cell_type": "code",
   "execution_count": 54,
   "metadata": {},
   "outputs": [],
   "source": [
    "model = Sequential([\n",
    "    Dense(32, activation='relu', input_shape=(5,)),\n",
    "    Dense(32, activation='relu'),\n",
    "    Dense(1, activation='sigmoid'),\n",
    "])"
   ]
  },
  {
   "cell_type": "code",
   "execution_count": 55,
   "metadata": {},
   "outputs": [],
   "source": [
    "model.compile(optimizer='sgd',\n",
    "              loss='binary_crossentropy',\n",
    "              metrics=['accuracy'])"
   ]
  },
  {
   "cell_type": "code",
   "execution_count": 56,
   "metadata": {},
   "outputs": [],
   "source": [
    "optimizer='sgd'"
   ]
  },
  {
   "cell_type": "code",
   "execution_count": 57,
   "metadata": {},
   "outputs": [],
   "source": [
    "loss='binary_crossentropy'"
   ]
  },
  {
   "cell_type": "code",
   "execution_count": 58,
   "metadata": {},
   "outputs": [],
   "source": [
    "metrics=['accuracy']"
   ]
  },
  {
   "cell_type": "code",
   "execution_count": 59,
   "metadata": {},
   "outputs": [
    {
     "name": "stdout",
     "output_type": "stream",
     "text": [
      "Train on 45 samples, validate on 73 samples\n",
      "Epoch 1/100\n",
      "45/45 [==============================] - 1s 14ms/step - loss: 0.7014 - acc: 0.0000e+00 - val_loss: 0.5831 - val_acc: 0.0137\n",
      "Epoch 2/100\n",
      "45/45 [==============================] - 0s 133us/step - loss: 0.5894 - acc: 0.0222 - val_loss: 0.4614 - val_acc: 0.1918\n",
      "Epoch 3/100\n",
      "45/45 [==============================] - 0s 266us/step - loss: 0.4833 - acc: 0.3556 - val_loss: 0.3329 - val_acc: 0.2466\n",
      "Epoch 4/100\n",
      "45/45 [==============================] - 0s 288us/step - loss: 0.3730 - acc: 0.4222 - val_loss: 0.2039 - val_acc: 0.2466\n",
      "Epoch 5/100\n",
      "45/45 [==============================] - 0s 199us/step - loss: 0.2636 - acc: 0.4222 - val_loss: 0.0781 - val_acc: 0.2466\n",
      "Epoch 6/100\n",
      "45/45 [==============================] - 0s 177us/step - loss: 0.1547 - acc: 0.4222 - val_loss: -0.0552 - val_acc: 0.2466\n",
      "Epoch 7/100\n",
      "45/45 [==============================] - 0s 133us/step - loss: 0.0449 - acc: 0.4222 - val_loss: -0.1741 - val_acc: 0.2466\n",
      "Epoch 8/100\n",
      "45/45 [==============================] - 0s 133us/step - loss: -0.0570 - acc: 0.4222 - val_loss: -0.2965 - val_acc: 0.2466\n",
      "Epoch 9/100\n",
      "45/45 [==============================] - 0s 177us/step - loss: -0.1636 - acc: 0.4222 - val_loss: -0.4323 - val_acc: 0.2466\n",
      "Epoch 10/100\n",
      "45/45 [==============================] - 0s 244us/step - loss: -0.2806 - acc: 0.4222 - val_loss: -0.5802 - val_acc: 0.2466\n",
      "Epoch 11/100\n",
      "45/45 [==============================] - 0s 199us/step - loss: -0.4060 - acc: 0.4222 - val_loss: -0.7322 - val_acc: 0.2466\n",
      "Epoch 12/100\n",
      "45/45 [==============================] - 0s 222us/step - loss: -0.5324 - acc: 0.4222 - val_loss: -0.8792 - val_acc: 0.2466\n",
      "Epoch 13/100\n",
      "45/45 [==============================] - 0s 155us/step - loss: -0.6554 - acc: 0.4222 - val_loss: -1.0284 - val_acc: 0.2466\n",
      "Epoch 14/100\n",
      "45/45 [==============================] - 0s 288us/step - loss: -0.7851 - acc: 0.4222 - val_loss: -1.1964 - val_acc: 0.2466\n",
      "Epoch 15/100\n",
      "45/45 [==============================] - 0s 177us/step - loss: -0.9218 - acc: 0.4222 - val_loss: -1.3539 - val_acc: 0.2466\n",
      "Epoch 16/100\n",
      "45/45 [==============================] - 0s 199us/step - loss: -1.0609 - acc: 0.4222 - val_loss: -1.5369 - val_acc: 0.2466\n",
      "Epoch 17/100\n",
      "45/45 [==============================] - 0s 177us/step - loss: -1.2206 - acc: 0.4222 - val_loss: -1.7504 - val_acc: 0.2466\n",
      "Epoch 18/100\n",
      "45/45 [==============================] - 0s 222us/step - loss: -1.4028 - acc: 0.4222 - val_loss: -1.9845 - val_acc: 0.2466\n",
      "Epoch 19/100\n",
      "45/45 [==============================] - 0s 199us/step - loss: -1.6007 - acc: 0.4222 - val_loss: -2.2316 - val_acc: 0.2466\n",
      "Epoch 20/100\n",
      "45/45 [==============================] - 0s 399us/step - loss: -1.8075 - acc: 0.4222 - val_loss: -2.4871 - val_acc: 0.2466\n",
      "Epoch 21/100\n",
      "45/45 [==============================] - 0s 288us/step - loss: -2.0309 - acc: 0.4222 - val_loss: -2.8118 - val_acc: 0.2466\n",
      "Epoch 22/100\n",
      "45/45 [==============================] - 0s 222us/step - loss: -2.3020 - acc: 0.4222 - val_loss: -3.1395 - val_acc: 0.2466\n",
      "Epoch 23/100\n",
      "45/45 [==============================] - 0s 155us/step - loss: -2.5748 - acc: 0.4222 - val_loss: -3.4850 - val_acc: 0.2466\n",
      "Epoch 24/100\n",
      "45/45 [==============================] - 0s 221us/step - loss: -2.8551 - acc: 0.4222 - val_loss: -3.8303 - val_acc: 0.2466\n",
      "Epoch 25/100\n",
      "45/45 [==============================] - 0s 222us/step - loss: -3.1526 - acc: 0.4222 - val_loss: -4.2366 - val_acc: 0.2466\n",
      "Epoch 26/100\n",
      "45/45 [==============================] - 0s 177us/step - loss: -3.5068 - acc: 0.4222 - val_loss: -4.7503 - val_acc: 0.2466\n",
      "Epoch 27/100\n",
      "45/45 [==============================] - 0s 222us/step - loss: -3.9236 - acc: 0.4222 - val_loss: -5.2690 - val_acc: 0.2466\n",
      "Epoch 28/100\n",
      "45/45 [==============================] - 0s 155us/step - loss: -4.3639 - acc: 0.4222 - val_loss: -5.8773 - val_acc: 0.2466\n",
      "Epoch 29/100\n",
      "45/45 [==============================] - 0s 244us/step - loss: -4.8578 - acc: 0.4222 - val_loss: -6.5240 - val_acc: 0.2466\n",
      "Epoch 30/100\n",
      "45/45 [==============================] - 0s 312us/step - loss: -5.4239 - acc: 0.4222 - val_loss: -7.3512 - val_acc: 0.2466\n",
      "Epoch 31/100\n",
      "45/45 [==============================] - 0s 244us/step - loss: -6.1274 - acc: 0.4222 - val_loss: -8.3593 - val_acc: 0.2466\n",
      "Epoch 32/100\n",
      "45/45 [==============================] - 0s 200us/step - loss: -6.9897 - acc: 0.4222 - val_loss: -9.6437 - val_acc: 0.2466\n",
      "Epoch 33/100\n",
      "45/45 [==============================] - 0s 177us/step - loss: -8.0511 - acc: 0.4222 - val_loss: -11.0656 - val_acc: 0.2466\n",
      "Epoch 34/100\n",
      "45/45 [==============================] - 0s 200us/step - loss: -9.2870 - acc: 0.4222 - val_loss: -13.0095 - val_acc: 0.2466\n",
      "Epoch 35/100\n",
      "45/45 [==============================] - 0s 177us/step - loss: -10.8073 - acc: 0.4222 - val_loss: -14.8427 - val_acc: 0.2466\n",
      "Epoch 36/100\n",
      "45/45 [==============================] - 0s 266us/step - loss: -12.2124 - acc: 0.4222 - val_loss: -15.8778 - val_acc: 0.2466\n",
      "Epoch 37/100\n",
      "45/45 [==============================] - 0s 199us/step - loss: -13.0306 - acc: 0.4222 - val_loss: -16.5040 - val_acc: 0.2466\n",
      "Epoch 38/100\n",
      "45/45 [==============================] - 0s 177us/step - loss: -13.4988 - acc: 0.4222 - val_loss: -16.8234 - val_acc: 0.2466\n",
      "Epoch 39/100\n",
      "45/45 [==============================] - 0s 222us/step - loss: -13.7092 - acc: 0.4222 - val_loss: -16.9881 - val_acc: 0.2466\n",
      "Epoch 40/100\n",
      "45/45 [==============================] - 0s 222us/step - loss: -13.7769 - acc: 0.4222 - val_loss: -17.0490 - val_acc: 0.2466\n",
      "Epoch 41/100\n",
      "45/45 [==============================] - 0s 421us/step - loss: -13.7769 - acc: 0.4222 - val_loss: -17.0994 - val_acc: 0.2466\n",
      "Epoch 42/100\n",
      "45/45 [==============================] - 0s 266us/step - loss: -13.8013 - acc: 0.4222 - val_loss: -17.1351 - val_acc: 0.2466\n",
      "Epoch 43/100\n",
      "45/45 [==============================] - 0s 199us/step - loss: -13.8167 - acc: 0.4222 - val_loss: -17.1481 - val_acc: 0.2466\n",
      "Epoch 44/100\n",
      "45/45 [==============================] - 0s 377us/step - loss: -13.8167 - acc: 0.4222 - val_loss: -17.1886 - val_acc: 0.2466\n",
      "Epoch 45/100\n",
      "45/45 [==============================] - 0s 288us/step - loss: -13.8167 - acc: 0.4222 - val_loss: -17.1846 - val_acc: 0.2466\n",
      "Epoch 46/100\n",
      "45/45 [==============================] - 0s 177us/step - loss: -13.8167 - acc: 0.4222 - val_loss: -17.1886 - val_acc: 0.2466\n",
      "Epoch 47/100\n",
      "45/45 [==============================] - 0s 266us/step - loss: -13.8167 - acc: 0.4222 - val_loss: -17.2060 - val_acc: 0.2466\n",
      "Epoch 48/100\n",
      "45/45 [==============================] - ETA: 0s - loss: -13.4514 - acc: 0.406 - 0s 200us/step - loss: -13.8167 - acc: 0.4222 - val_loss: -17.1950 - val_acc: 0.2466\n",
      "Epoch 49/100\n",
      "45/45 [==============================] - 0s 177us/step - loss: -13.8167 - acc: 0.4222 - val_loss: -17.2147 - val_acc: 0.2466\n",
      "Epoch 50/100\n",
      "45/45 [==============================] - 0s 199us/step - loss: -13.8167 - acc: 0.4222 - val_loss: -17.2187 - val_acc: 0.2466\n",
      "Epoch 51/100\n",
      "45/45 [==============================] - 0s 244us/step - loss: -13.8077 - acc: 0.4222 - val_loss: -17.2205 - val_acc: 0.2466\n",
      "Epoch 52/100\n",
      "45/45 [==============================] - 0s 222us/step - loss: -13.8167 - acc: 0.4222 - val_loss: -17.2171 - val_acc: 0.2466\n",
      "Epoch 53/100\n",
      "45/45 [==============================] - 0s 177us/step - loss: -13.8167 - acc: 0.4222 - val_loss: -17.2226 - val_acc: 0.2466\n",
      "Epoch 54/100\n",
      "45/45 [==============================] - 0s 199us/step - loss: -13.8167 - acc: 0.4222 - val_loss: -17.2226 - val_acc: 0.2466\n",
      "Epoch 55/100\n",
      "45/45 [==============================] - 0s 199us/step - loss: -13.8167 - acc: 0.4222 - val_loss: -17.2110 - val_acc: 0.2466\n",
      "Epoch 56/100\n",
      "45/45 [==============================] - 0s 288us/step - loss: -13.8167 - acc: 0.4222 - val_loss: -17.2171 - val_acc: 0.2466\n",
      "Epoch 57/100\n",
      "45/45 [==============================] - 0s 288us/step - loss: -13.8167 - acc: 0.4222 - val_loss: -17.2251 - val_acc: 0.2466\n",
      "Epoch 58/100\n",
      "45/45 [==============================] - 0s 199us/step - loss: -13.8167 - acc: 0.4222 - val_loss: -17.2196 - val_acc: 0.2466\n",
      "Epoch 59/100\n",
      "45/45 [==============================] - 0s 177us/step - loss: -13.8167 - acc: 0.4222 - val_loss: -17.2196 - val_acc: 0.2466\n",
      "Epoch 60/100\n"
     ]
    },
    {
     "name": "stdout",
     "output_type": "stream",
     "text": [
      "45/45 [==============================] - 0s 266us/step - loss: -13.8167 - acc: 0.4222 - val_loss: -17.2282 - val_acc: 0.2466\n",
      "Epoch 61/100\n",
      "45/45 [==============================] - 0s 199us/step - loss: -13.8167 - acc: 0.4222 - val_loss: -17.2226 - val_acc: 0.2466\n",
      "Epoch 62/100\n",
      "45/45 [==============================] - 0s 288us/step - loss: -13.8167 - acc: 0.4222 - val_loss: -17.2226 - val_acc: 0.2466\n",
      "Epoch 63/100\n",
      "45/45 [==============================] - 0s 244us/step - loss: -13.8167 - acc: 0.4222 - val_loss: -17.2140 - val_acc: 0.2466\n",
      "Epoch 64/100\n",
      "45/45 [==============================] - 0s 167us/step - loss: -13.8167 - acc: 0.4222 - val_loss: -17.2282 - val_acc: 0.2466\n",
      "Epoch 65/100\n",
      "45/45 [==============================] - 0s 199us/step - loss: -13.8167 - acc: 0.4222 - val_loss: -17.2251 - val_acc: 0.2466\n",
      "Epoch 66/100\n",
      "45/45 [==============================] - 0s 199us/step - loss: -13.8167 - acc: 0.4222 - val_loss: -17.2226 - val_acc: 0.2466\n",
      "Epoch 67/100\n",
      "45/45 [==============================] - 0s 177us/step - loss: -13.8167 - acc: 0.4222 - val_loss: -17.2251 - val_acc: 0.2466\n",
      "Epoch 68/100\n",
      "45/45 [==============================] - 0s 177us/step - loss: -13.8167 - acc: 0.4222 - val_loss: -17.2337 - val_acc: 0.2466\n",
      "Epoch 69/100\n",
      "45/45 [==============================] - 0s 199us/step - loss: -13.8167 - acc: 0.4222 - val_loss: -17.2276 - val_acc: 0.2466\n",
      "Epoch 70/100\n",
      "45/45 [==============================] - 0s 244us/step - loss: -13.8167 - acc: 0.4222 - val_loss: -17.2307 - val_acc: 0.2466\n",
      "Epoch 71/100\n",
      "45/45 [==============================] - 0s 177us/step - loss: -13.8167 - acc: 0.4222 - val_loss: -17.2337 - val_acc: 0.2466\n",
      "Epoch 72/100\n",
      "45/45 [==============================] - 0s 177us/step - loss: -13.8167 - acc: 0.4222 - val_loss: -17.2337 - val_acc: 0.2466\n",
      "Epoch 73/100\n",
      "45/45 [==============================] - 0s 133us/step - loss: -13.8167 - acc: 0.4222 - val_loss: -17.2346 - val_acc: 0.2466\n",
      "Epoch 74/100\n",
      "45/45 [==============================] - 0s 177us/step - loss: -13.8167 - acc: 0.4222 - val_loss: -17.2377 - val_acc: 0.2466\n",
      "Epoch 75/100\n",
      "45/45 [==============================] - 0s 133us/step - loss: -13.8167 - acc: 0.4222 - val_loss: -17.2337 - val_acc: 0.2466\n",
      "Epoch 76/100\n",
      "45/45 [==============================] - 0s 244us/step - loss: -13.8167 - acc: 0.4222 - val_loss: -17.2337 - val_acc: 0.2466\n",
      "Epoch 77/100\n",
      "45/45 [==============================] - 0s 244us/step - loss: -13.8167 - acc: 0.4222 - val_loss: -17.2377 - val_acc: 0.2466\n",
      "Epoch 78/100\n",
      "45/45 [==============================] - 0s 222us/step - loss: -13.8167 - acc: 0.4222 - val_loss: -17.2337 - val_acc: 0.2466\n",
      "Epoch 79/100\n",
      "45/45 [==============================] - 0s 155us/step - loss: -13.8167 - acc: 0.4222 - val_loss: -17.2307 - val_acc: 0.2466\n",
      "Epoch 80/100\n",
      "45/45 [==============================] - 0s 155us/step - loss: -13.8167 - acc: 0.4222 - val_loss: -17.2346 - val_acc: 0.2466\n",
      "Epoch 81/100\n",
      "45/45 [==============================] - 0s 133us/step - loss: -13.8167 - acc: 0.4222 - val_loss: -17.2377 - val_acc: 0.2466\n",
      "Epoch 82/100\n",
      "45/45 [==============================] - ETA: 0s - loss: -14.4478 - acc: 0.375 - 0s 199us/step - loss: -13.8167 - acc: 0.4222 - val_loss: -17.2337 - val_acc: 0.2466\n",
      "Epoch 83/100\n",
      "45/45 [==============================] - 0s 199us/step - loss: -13.8167 - acc: 0.4222 - val_loss: -17.2337 - val_acc: 0.2466\n",
      "Epoch 84/100\n",
      "45/45 [==============================] - 0s 177us/step - loss: -13.8167 - acc: 0.4222 - val_loss: -17.2337 - val_acc: 0.2466\n",
      "Epoch 85/100\n",
      "45/45 [==============================] - 0s 244us/step - loss: -13.8167 - acc: 0.4222 - val_loss: -17.2377 - val_acc: 0.2466\n",
      "Epoch 86/100\n",
      "45/45 [==============================] - 0s 244us/step - loss: -13.8167 - acc: 0.4222 - val_loss: -17.2337 - val_acc: 0.2466\n",
      "Epoch 87/100\n",
      "45/45 [==============================] - 0s 266us/step - loss: -13.8167 - acc: 0.4222 - val_loss: -17.2377 - val_acc: 0.2466\n",
      "Epoch 88/100\n",
      "45/45 [==============================] - 0s 266us/step - loss: -13.8167 - acc: 0.4222 - val_loss: -17.2337 - val_acc: 0.2466\n",
      "Epoch 89/100\n",
      "45/45 [==============================] - 0s 244us/step - loss: -13.8167 - acc: 0.4222 - val_loss: -17.2377 - val_acc: 0.2466\n",
      "Epoch 90/100\n",
      "45/45 [==============================] - 0s 199us/step - loss: -13.8167 - acc: 0.4222 - val_loss: -17.2416 - val_acc: 0.2466\n",
      "Epoch 91/100\n",
      "45/45 [==============================] - 0s 222us/step - loss: -13.8167 - acc: 0.4222 - val_loss: -17.2432 - val_acc: 0.2466\n",
      "Epoch 92/100\n",
      "45/45 [==============================] - 0s 266us/step - loss: -13.8167 - acc: 0.4222 - val_loss: -17.2282 - val_acc: 0.2466\n",
      "Epoch 93/100\n",
      "45/45 [==============================] - 0s 288us/step - loss: -13.8167 - acc: 0.4222 - val_loss: -17.2377 - val_acc: 0.2466\n",
      "Epoch 94/100\n",
      "45/45 [==============================] - 0s 222us/step - loss: -13.8167 - acc: 0.4222 - val_loss: -17.2472 - val_acc: 0.2466\n",
      "Epoch 95/100\n",
      "45/45 [==============================] - 0s 199us/step - loss: -13.8167 - acc: 0.4222 - val_loss: -17.2472 - val_acc: 0.2466\n",
      "Epoch 96/100\n",
      "45/45 [==============================] - 0s 133us/step - loss: -13.8167 - acc: 0.4222 - val_loss: -17.2377 - val_acc: 0.2466\n",
      "Epoch 97/100\n",
      "45/45 [==============================] - 0s 222us/step - loss: -13.8167 - acc: 0.4222 - val_loss: -17.2472 - val_acc: 0.2466\n",
      "Epoch 98/100\n",
      "45/45 [==============================] - 0s 177us/step - loss: -13.8167 - acc: 0.4222 - val_loss: -17.2416 - val_acc: 0.2466\n",
      "Epoch 99/100\n",
      "45/45 [==============================] - 0s 133us/step - loss: -13.8167 - acc: 0.4222 - val_loss: -17.2377 - val_acc: 0.2466\n",
      "Epoch 100/100\n",
      "45/45 [==============================] - 0s 155us/step - loss: -13.8167 - acc: 0.4222 - val_loss: -17.2472 - val_acc: 0.2466\n"
     ]
    }
   ],
   "source": [
    "hist = model.fit(X_train, Y_train,\n",
    "          batch_size=32, epochs=100,\n",
    "          validation_data=(X_val, Y_val))"
   ]
  },
  {
   "cell_type": "code",
   "execution_count": 19,
   "metadata": {},
   "outputs": [
    {
     "name": "stdout",
     "output_type": "stream",
     "text": [
      "\r",
      "32/32 [==============================] - 0s 31us/step\n"
     ]
    },
    {
     "data": {
      "text/plain": [
       "0.40625"
      ]
     },
     "execution_count": 19,
     "metadata": {},
     "output_type": "execute_result"
    }
   ],
   "source": [
    "model.evaluate(X_test, Y_test)[1]"
   ]
  },
  {
   "cell_type": "code",
   "execution_count": 20,
   "metadata": {
    "scrolled": true
   },
   "outputs": [
    {
     "data": {
      "image/png": "[encoded data removed]",
      "text/plain": [
       "<Figure size 432x288 with 1 Axes>"
      ]
     },
     "metadata": {
      "needs_background": "light"
     },
     "output_type": "display_data"
    }
   ],
   "source": [
    "plt.plot(hist.history['loss'])\n",
    "plt.plot(hist.history['val_loss'])\n",
    "plt.title('Model loss')\n",
    "plt.ylabel('Loss')\n",
    "plt.xlabel('Epoch')\n",
    "plt.legend(['Train', 'Val'], loc='upper right')\n",
    "plt.show()"
   ]
  },
  {
   "cell_type": "code",
   "execution_count": 21,
   "metadata": {},
   "outputs": [
    {
     "data": {
      "image/png": "[encoded data removed]",
      "text/plain": [
       "<Figure size 432x288 with 1 Axes>"
      ]
     },
     "metadata": {
      "needs_background": "light"
     },
     "output_type": "display_data"
    }
   ],
   "source": [
    "plt.plot(hist.history['acc'])\n",
    "plt.plot(hist.history['val_acc'])\n",
    "plt.title('Model accuracy')\n",
    "plt.ylabel('Accuracy')\n",
    "plt.xlabel('Epoch')\n",
    "plt.legend(['Train', 'Val'], loc='lower right')\n",
    "plt.show()"
   ]
  },
  {
   "cell_type": "code",
   "execution_count": 22,
   "metadata": {},
   "outputs": [
    {
     "name": "stdout",
     "output_type": "stream",
     "text": [
      "Train on 45 samples, validate on 73 samples\n",
      "Epoch 1/100\n",
      "45/45 [==============================] - 1s 26ms/step - loss: 0.4901 - acc: 0.3556 - val_loss: -1.4599 - val_acc: 0.2877\n",
      "Epoch 2/100\n",
      "45/45 [==============================] - 0s 3ms/step - loss: -1.9586 - acc: 0.3556 - val_loss: -7.7292 - val_acc: 0.2877\n",
      "Epoch 3/100\n",
      "45/45 [==============================] - 0s 3ms/step - loss: -7.3178 - acc: 0.3556 - val_loss: -17.1506 - val_acc: 0.2877\n",
      "Epoch 4/100\n",
      "45/45 [==============================] - 0s 3ms/step - loss: -14.8487 - acc: 0.3556 - val_loss: -17.2527 - val_acc: 0.2877\n",
      "Epoch 5/100\n",
      "45/45 [==============================] - 0s 3ms/step - loss: -14.8796 - acc: 0.3556 - val_loss: -17.2527 - val_acc: 0.2877\n",
      "Epoch 6/100\n",
      "45/45 [==============================] - 0s 3ms/step - loss: -14.8796 - acc: 0.3556 - val_loss: -17.2527 - val_acc: 0.2877\n",
      "Epoch 7/100\n",
      "45/45 [==============================] - 0s 3ms/step - loss: -14.8796 - acc: 0.3556 - val_loss: -17.2527 - val_acc: 0.2877\n",
      "Epoch 8/100\n",
      "45/45 [==============================] - 0s 3ms/step - loss: -14.8796 - acc: 0.3556 - val_loss: -17.2527 - val_acc: 0.2877\n",
      "Epoch 9/100\n",
      "45/45 [==============================] - 0s 3ms/step - loss: -14.8796 - acc: 0.3556 - val_loss: -17.2527 - val_acc: 0.2877\n",
      "Epoch 10/100\n",
      "45/45 [==============================] - 0s 3ms/step - loss: -14.8796 - acc: 0.3556 - val_loss: -17.2527 - val_acc: 0.2877\n",
      "Epoch 11/100\n",
      "45/45 [==============================] - 0s 3ms/step - loss: -14.8796 - acc: 0.3556 - val_loss: -17.2527 - val_acc: 0.2877\n",
      "Epoch 12/100\n",
      "45/45 [==============================] - 0s 3ms/step - loss: -14.8796 - acc: 0.3556 - val_loss: -17.2527 - val_acc: 0.2877\n",
      "Epoch 13/100\n",
      "45/45 [==============================] - 0s 3ms/step - loss: -14.8796 - acc: 0.3556 - val_loss: -17.2527 - val_acc: 0.2877\n",
      "Epoch 14/100\n",
      "45/45 [==============================] - 0s 3ms/step - loss: -14.8796 - acc: 0.3556 - val_loss: -17.2527 - val_acc: 0.2877\n",
      "Epoch 15/100\n",
      "45/45 [==============================] - 0s 3ms/step - loss: -14.8796 - acc: 0.3556 - val_loss: -17.2527 - val_acc: 0.2877\n",
      "Epoch 16/100\n",
      "45/45 [==============================] - 0s 3ms/step - loss: -14.8796 - acc: 0.3556 - val_loss: -17.2527 - val_acc: 0.2877\n",
      "Epoch 17/100\n",
      "45/45 [==============================] - 0s 3ms/step - loss: -14.8796 - acc: 0.3556 - val_loss: -17.2527 - val_acc: 0.2877\n",
      "Epoch 18/100\n",
      "45/45 [==============================] - 0s 3ms/step - loss: -14.8796 - acc: 0.3556 - val_loss: -17.2527 - val_acc: 0.2877\n",
      "Epoch 19/100\n",
      "45/45 [==============================] - 0s 3ms/step - loss: -14.8796 - acc: 0.3556 - val_loss: -17.2527 - val_acc: 0.2877\n",
      "Epoch 20/100\n",
      "45/45 [==============================] - 0s 3ms/step - loss: -14.8796 - acc: 0.3556 - val_loss: -17.2527 - val_acc: 0.2877\n",
      "Epoch 21/100\n",
      "45/45 [==============================] - 0s 4ms/step - loss: -14.8796 - acc: 0.3556 - val_loss: -17.2527 - val_acc: 0.2877\n",
      "Epoch 22/100\n",
      "45/45 [==============================] - 0s 4ms/step - loss: -14.8796 - acc: 0.3556 - val_loss: -17.2527 - val_acc: 0.2877\n",
      "Epoch 23/100\n",
      "45/45 [==============================] - 0s 3ms/step - loss: -14.8796 - acc: 0.3556 - val_loss: -17.2527 - val_acc: 0.2877\n",
      "Epoch 24/100\n",
      "45/45 [==============================] - 0s 3ms/step - loss: -14.8796 - acc: 0.3556 - val_loss: -17.2527 - val_acc: 0.2877\n",
      "Epoch 25/100\n",
      "45/45 [==============================] - 0s 4ms/step - loss: -14.8796 - acc: 0.3556 - val_loss: -17.2527 - val_acc: 0.2877\n",
      "Epoch 26/100\n",
      "45/45 [==============================] - 0s 3ms/step - loss: -14.8796 - acc: 0.3556 - val_loss: -17.2527 - val_acc: 0.2877\n",
      "Epoch 27/100\n",
      "45/45 [==============================] - 0s 3ms/step - loss: -14.8796 - acc: 0.3556 - val_loss: -17.2527 - val_acc: 0.2877\n",
      "Epoch 28/100\n",
      "45/45 [==============================] - 0s 3ms/step - loss: -14.8796 - acc: 0.3556 - val_loss: -17.2527 - val_acc: 0.2877\n",
      "Epoch 29/100\n",
      "45/45 [==============================] - 0s 3ms/step - loss: -14.8796 - acc: 0.3556 - val_loss: -17.2527 - val_acc: 0.2877\n",
      "Epoch 30/100\n",
      "45/45 [==============================] - 0s 3ms/step - loss: -14.8796 - acc: 0.3556 - val_loss: -17.2527 - val_acc: 0.2877\n",
      "Epoch 31/100\n",
      "45/45 [==============================] - 0s 3ms/step - loss: -14.8796 - acc: 0.3556 - val_loss: -17.2527 - val_acc: 0.2877\n",
      "Epoch 32/100\n",
      "45/45 [==============================] - 0s 3ms/step - loss: -14.8796 - acc: 0.3556 - val_loss: -17.2527 - val_acc: 0.2877\n",
      "Epoch 33/100\n",
      "45/45 [==============================] - 0s 3ms/step - loss: -14.8796 - acc: 0.3556 - val_loss: -17.2527 - val_acc: 0.2877\n",
      "Epoch 34/100\n",
      "45/45 [==============================] - 0s 3ms/step - loss: -14.8796 - acc: 0.3556 - val_loss: -17.2527 - val_acc: 0.2877\n",
      "Epoch 35/100\n",
      "45/45 [==============================] - 0s 3ms/step - loss: -14.8796 - acc: 0.3556 - val_loss: -17.2527 - val_acc: 0.2877\n",
      "Epoch 36/100\n",
      "45/45 [==============================] - 0s 3ms/step - loss: -14.8796 - acc: 0.3556 - val_loss: -17.2527 - val_acc: 0.2877\n",
      "Epoch 37/100\n",
      "45/45 [==============================] - 0s 3ms/step - loss: -14.8796 - acc: 0.3556 - val_loss: -17.2527 - val_acc: 0.2877\n",
      "Epoch 38/100\n",
      "45/45 [==============================] - 0s 3ms/step - loss: -14.8796 - acc: 0.3556 - val_loss: -17.2527 - val_acc: 0.2877\n",
      "Epoch 39/100\n",
      "45/45 [==============================] - 0s 3ms/step - loss: -14.8796 - acc: 0.3556 - val_loss: -17.2527 - val_acc: 0.2877\n",
      "Epoch 40/100\n",
      "45/45 [==============================] - 0s 3ms/step - loss: -14.8796 - acc: 0.3556 - val_loss: -17.2527 - val_acc: 0.2877\n",
      "Epoch 41/100\n",
      "45/45 [==============================] - 0s 3ms/step - loss: -14.8796 - acc: 0.3556 - val_loss: -17.2527 - val_acc: 0.2877\n",
      "Epoch 42/100\n",
      "45/45 [==============================] - 0s 3ms/step - loss: -14.8796 - acc: 0.3556 - val_loss: -17.2527 - val_acc: 0.2877\n",
      "Epoch 43/100\n",
      "45/45 [==============================] - 0s 3ms/step - loss: -14.8796 - acc: 0.3556 - val_loss: -17.2527 - val_acc: 0.2877\n",
      "Epoch 44/100\n",
      "45/45 [==============================] - 0s 3ms/step - loss: -14.8796 - acc: 0.3556 - val_loss: -17.2527 - val_acc: 0.2877\n",
      "Epoch 45/100\n",
      "45/45 [==============================] - 0s 3ms/step - loss: -14.8796 - acc: 0.3556 - val_loss: -17.2527 - val_acc: 0.2877\n",
      "Epoch 46/100\n",
      "45/45 [==============================] - 0s 3ms/step - loss: -14.8796 - acc: 0.3556 - val_loss: -17.2527 - val_acc: 0.2877\n",
      "Epoch 47/100\n",
      "45/45 [==============================] - 0s 3ms/step - loss: -14.8796 - acc: 0.3556 - val_loss: -17.2527 - val_acc: 0.2877\n",
      "Epoch 48/100\n",
      "45/45 [==============================] - 0s 3ms/step - loss: -14.8796 - acc: 0.3556 - val_loss: -17.2527 - val_acc: 0.2877\n",
      "Epoch 49/100\n",
      "45/45 [==============================] - 0s 3ms/step - loss: -14.8796 - acc: 0.3556 - val_loss: -17.2527 - val_acc: 0.2877\n",
      "Epoch 50/100\n",
      "45/45 [==============================] - 0s 3ms/step - loss: -14.8796 - acc: 0.3556 - val_loss: -17.2527 - val_acc: 0.2877\n",
      "Epoch 51/100\n",
      "45/45 [==============================] - 0s 3ms/step - loss: -14.8796 - acc: 0.3556 - val_loss: -17.2527 - val_acc: 0.2877\n",
      "Epoch 52/100\n",
      "45/45 [==============================] - 0s 3ms/step - loss: -14.8796 - acc: 0.3556 - val_loss: -17.2527 - val_acc: 0.2877\n",
      "Epoch 53/100\n",
      "45/45 [==============================] - 0s 3ms/step - loss: -14.8796 - acc: 0.3556 - val_loss: -17.2527 - val_acc: 0.2877\n",
      "Epoch 54/100\n",
      "45/45 [==============================] - 0s 3ms/step - loss: -14.8796 - acc: 0.3556 - val_loss: -17.2527 - val_acc: 0.2877\n",
      "Epoch 55/100\n",
      "45/45 [==============================] - 0s 3ms/step - loss: -14.8796 - acc: 0.3556 - val_loss: -17.2527 - val_acc: 0.2877\n",
      "Epoch 56/100\n",
      "45/45 [==============================] - 0s 3ms/step - loss: -14.8796 - acc: 0.3556 - val_loss: -17.2527 - val_acc: 0.2877\n",
      "Epoch 57/100\n",
      "45/45 [==============================] - 0s 3ms/step - loss: -14.8796 - acc: 0.3556 - val_loss: -17.2527 - val_acc: 0.2877\n",
      "Epoch 58/100\n",
      "45/45 [==============================] - 0s 3ms/step - loss: -14.8796 - acc: 0.3556 - val_loss: -17.2527 - val_acc: 0.2877\n",
      "Epoch 59/100\n",
      "45/45 [==============================] - 0s 2ms/step - loss: -14.8796 - acc: 0.3556 - val_loss: -17.2527 - val_acc: 0.2877\n",
      "Epoch 60/100\n",
      "45/45 [==============================] - 0s 3ms/step - loss: -14.8796 - acc: 0.3556 - val_loss: -17.2527 - val_acc: 0.2877\n",
      "Epoch 61/100\n"
     ]
    },
    {
     "name": "stdout",
     "output_type": "stream",
     "text": [
      "45/45 [==============================] - 0s 3ms/step - loss: -14.8796 - acc: 0.3556 - val_loss: -17.2527 - val_acc: 0.2877\n",
      "Epoch 62/100\n",
      "45/45 [==============================] - 0s 3ms/step - loss: -14.8796 - acc: 0.3556 - val_loss: -17.2527 - val_acc: 0.2877\n",
      "Epoch 63/100\n",
      "45/45 [==============================] - 0s 3ms/step - loss: -14.8796 - acc: 0.3556 - val_loss: -17.2527 - val_acc: 0.2877\n",
      "Epoch 64/100\n",
      "45/45 [==============================] - 0s 3ms/step - loss: -14.8796 - acc: 0.3556 - val_loss: -17.2527 - val_acc: 0.2877\n",
      "Epoch 65/100\n",
      "45/45 [==============================] - 0s 3ms/step - loss: -14.8796 - acc: 0.3556 - val_loss: -17.2527 - val_acc: 0.2877\n",
      "Epoch 66/100\n",
      "45/45 [==============================] - 0s 3ms/step - loss: -14.8796 - acc: 0.3556 - val_loss: -17.2527 - val_acc: 0.2877\n",
      "Epoch 67/100\n",
      "45/45 [==============================] - 0s 3ms/step - loss: -14.8796 - acc: 0.3556 - val_loss: -17.2527 - val_acc: 0.2877\n",
      "Epoch 68/100\n",
      "45/45 [==============================] - 0s 3ms/step - loss: -14.8796 - acc: 0.3556 - val_loss: -17.2527 - val_acc: 0.2877\n",
      "Epoch 69/100\n",
      "45/45 [==============================] - 0s 3ms/step - loss: -14.8796 - acc: 0.3556 - val_loss: -17.2527 - val_acc: 0.2877\n",
      "Epoch 70/100\n",
      "45/45 [==============================] - 0s 3ms/step - loss: -14.8796 - acc: 0.3556 - val_loss: -17.2527 - val_acc: 0.2877\n",
      "Epoch 71/100\n",
      "45/45 [==============================] - 0s 3ms/step - loss: -14.8796 - acc: 0.3556 - val_loss: -17.2527 - val_acc: 0.2877\n",
      "Epoch 72/100\n",
      "45/45 [==============================] - 0s 3ms/step - loss: -14.8796 - acc: 0.3556 - val_loss: -17.2527 - val_acc: 0.2877\n",
      "Epoch 73/100\n",
      "45/45 [==============================] - 0s 3ms/step - loss: -14.8796 - acc: 0.3556 - val_loss: -17.2527 - val_acc: 0.2877\n",
      "Epoch 74/100\n",
      "45/45 [==============================] - 0s 3ms/step - loss: -14.8796 - acc: 0.3556 - val_loss: -17.2527 - val_acc: 0.2877\n",
      "Epoch 75/100\n",
      "45/45 [==============================] - 0s 3ms/step - loss: -14.8796 - acc: 0.3556 - val_loss: -17.2527 - val_acc: 0.2877\n",
      "Epoch 76/100\n",
      "45/45 [==============================] - 0s 3ms/step - loss: -14.8796 - acc: 0.3556 - val_loss: -17.2527 - val_acc: 0.2877\n",
      "Epoch 77/100\n",
      "45/45 [==============================] - 0s 3ms/step - loss: -14.8796 - acc: 0.3556 - val_loss: -17.2527 - val_acc: 0.2877\n",
      "Epoch 78/100\n",
      "45/45 [==============================] - 0s 3ms/step - loss: -14.8796 - acc: 0.3556 - val_loss: -17.2527 - val_acc: 0.2877\n",
      "Epoch 79/100\n",
      "45/45 [==============================] - 0s 3ms/step - loss: -14.8796 - acc: 0.3556 - val_loss: -17.2527 - val_acc: 0.2877\n",
      "Epoch 80/100\n",
      "45/45 [==============================] - 0s 3ms/step - loss: -14.8796 - acc: 0.3556 - val_loss: -17.2527 - val_acc: 0.2877\n",
      "Epoch 81/100\n",
      "45/45 [==============================] - 0s 3ms/step - loss: -14.8796 - acc: 0.3556 - val_loss: -17.2527 - val_acc: 0.2877\n",
      "Epoch 82/100\n",
      "45/45 [==============================] - 0s 3ms/step - loss: -14.8796 - acc: 0.3556 - val_loss: -17.2527 - val_acc: 0.2877\n",
      "Epoch 83/100\n",
      "45/45 [==============================] - 0s 3ms/step - loss: -14.8796 - acc: 0.3556 - val_loss: -17.2527 - val_acc: 0.2877\n",
      "Epoch 84/100\n",
      "45/45 [==============================] - 0s 3ms/step - loss: -14.8796 - acc: 0.3556 - val_loss: -17.2527 - val_acc: 0.2877\n",
      "Epoch 85/100\n",
      "45/45 [==============================] - 0s 3ms/step - loss: -14.8796 - acc: 0.3556 - val_loss: -17.2527 - val_acc: 0.2877\n",
      "Epoch 86/100\n",
      "45/45 [==============================] - 0s 3ms/step - loss: -14.8796 - acc: 0.3556 - val_loss: -17.2527 - val_acc: 0.2877\n",
      "Epoch 87/100\n",
      "45/45 [==============================] - 0s 3ms/step - loss: -14.8796 - acc: 0.3556 - val_loss: -17.2527 - val_acc: 0.2877\n",
      "Epoch 88/100\n",
      "45/45 [==============================] - 0s 3ms/step - loss: -14.8796 - acc: 0.3556 - val_loss: -17.2527 - val_acc: 0.2877\n",
      "Epoch 89/100\n",
      "45/45 [==============================] - 0s 3ms/step - loss: -14.8796 - acc: 0.3556 - val_loss: -17.2527 - val_acc: 0.2877\n",
      "Epoch 90/100\n",
      "45/45 [==============================] - 0s 3ms/step - loss: -14.8796 - acc: 0.3556 - val_loss: -17.2527 - val_acc: 0.2877\n",
      "Epoch 91/100\n",
      "45/45 [==============================] - 0s 3ms/step - loss: -14.8796 - acc: 0.3556 - val_loss: -17.2527 - val_acc: 0.2877\n",
      "Epoch 92/100\n",
      "45/45 [==============================] - 0s 2ms/step - loss: -14.8796 - acc: 0.3556 - val_loss: -17.2527 - val_acc: 0.2877\n",
      "Epoch 93/100\n",
      "45/45 [==============================] - 0s 3ms/step - loss: -14.8796 - acc: 0.3556 - val_loss: -17.2527 - val_acc: 0.2877\n",
      "Epoch 94/100\n",
      "45/45 [==============================] - 0s 3ms/step - loss: -14.8796 - acc: 0.3556 - val_loss: -17.2527 - val_acc: 0.2877\n",
      "Epoch 95/100\n",
      "45/45 [==============================] - 0s 3ms/step - loss: -14.8796 - acc: 0.3556 - val_loss: -17.2527 - val_acc: 0.2877\n",
      "Epoch 96/100\n",
      "45/45 [==============================] - 0s 2ms/step - loss: -14.8796 - acc: 0.3556 - val_loss: -17.2527 - val_acc: 0.2877\n",
      "Epoch 97/100\n",
      "45/45 [==============================] - 0s 3ms/step - loss: -14.8796 - acc: 0.3556 - val_loss: -17.2527 - val_acc: 0.2877\n",
      "Epoch 98/100\n",
      "45/45 [==============================] - 0s 3ms/step - loss: -14.8796 - acc: 0.3556 - val_loss: -17.2527 - val_acc: 0.2877\n",
      "Epoch 99/100\n",
      "45/45 [==============================] - 0s 3ms/step - loss: -14.8796 - acc: 0.3556 - val_loss: -17.2527 - val_acc: 0.2877\n",
      "Epoch 100/100\n",
      "45/45 [==============================] - 0s 3ms/step - loss: -14.8796 - acc: 0.3556 - val_loss: -17.2527 - val_acc: 0.2877\n"
     ]
    }
   ],
   "source": [
    "model_2 = Sequential([\n",
    "    Dense(1000, activation='relu', input_shape=(5,)),\n",
    "    Dense(1000, activation='relu'),\n",
    "    Dense(1000, activation='relu'),\n",
    "    Dense(1000, activation='relu'),\n",
    "    Dense(1, activation='sigmoid'),\n",
    "])\n",
    "model_2.compile(optimizer='adam',\n",
    "              loss='binary_crossentropy',\n",
    "              metrics=['accuracy'])\n",
    "hist_2 = model_2.fit(X_train, Y_train,\n",
    "          batch_size=32, epochs=100,\n",
    "          validation_data=(X_val, Y_val))"
   ]
  },
  {
   "cell_type": "code",
   "execution_count": 23,
   "metadata": {},
   "outputs": [
    {
     "data": {
      "image/png": "[encoded data removed]",
      "text/plain": [
       "<Figure size 432x288 with 1 Axes>"
      ]
     },
     "metadata": {
      "needs_background": "light"
     },
     "output_type": "display_data"
    }
   ],
   "source": [
    "plt.plot(hist_2.history['loss'])\n",
    "plt.plot(hist_2.history['val_loss'])\n",
    "plt.title('Model loss')\n",
    "plt.ylabel('Loss')\n",
    "plt.xlabel('Epoch')\n",
    "plt.legend(['Train', 'Val'], loc='upper right')\n",
    "plt.show()"
   ]
  },
  {
   "cell_type": "code",
   "execution_count": 24,
   "metadata": {},
   "outputs": [
    {
     "data": {
      "image/png": "[encoded data removed]",
      "text/plain": [
       "<Figure size 432x288 with 1 Axes>"
      ]
     },
     "metadata": {
      "needs_background": "light"
     },
     "output_type": "display_data"
    }
   ],
   "source": [
    "plt.plot(hist_2.history['acc'])\n",
    "plt.plot(hist_2.history['val_acc'])\n",
    "plt.title('Model accuracy')\n",
    "plt.ylabel('Accuracy')\n",
    "plt.xlabel('Epoch')\n",
    "plt.legend(['Train', 'Val'], loc='lower right')\n",
    "plt.show()"
   ]
  },
  {
   "cell_type": "code",
   "execution_count": 25,
   "metadata": {},
   "outputs": [
    {
     "name": "stdout",
     "output_type": "stream",
     "text": [
      "WARNING:tensorflow:From C:\\Users\\i851169\\AppData\\Local\\Continuum\\anaconda3\\lib\\site-packages\\keras\\backend\\tensorflow_backend.py:3445: calling dropout (from tensorflow.python.ops.nn_ops) with keep_prob is deprecated and will be removed in a future version.\n",
      "Instructions for updating:\n",
      "Please use `rate` instead of `keep_prob`. Rate should be set to `rate = 1 - keep_prob`.\n"
     ]
    }
   ],
   "source": [
    "model_3 = Sequential([\n",
    "    Dense(1000, activation='relu', kernel_regularizer=regularizers.l2(0.01), input_shape=(5,)),\n",
    "    Dropout(0.3),\n",
    "    Dense(1000, activation='relu', kernel_regularizer=regularizers.l2(0.01)),\n",
    "    Dropout(0.3),\n",
    "    Dense(1000, activation='relu', kernel_regularizer=regularizers.l2(0.01)),\n",
    "    Dropout(0.3),\n",
    "    Dense(1000, activation='relu', kernel_regularizer=regularizers.l2(0.01)),\n",
    "    Dropout(0.3),\n",
    "    Dense(1, activation='sigmoid', kernel_regularizer=regularizers.l2(0.01)),\n",
    "])"
   ]
  },
  {
   "cell_type": "code",
   "execution_count": 26,
   "metadata": {},
   "outputs": [],
   "source": [
    "kernel_regularizer=regularizers.l2(0.01)"
   ]
  },
  {
   "cell_type": "code",
   "execution_count": 27,
   "metadata": {},
   "outputs": [
    {
     "name": "stdout",
     "output_type": "stream",
     "text": [
      "Train on 45 samples, validate on 73 samples\n",
      "Epoch 1/100\n",
      "45/45 [==============================] - 2s 48ms/step - loss: 30.4065 - acc: 0.2222 - val_loss: 27.3768 - val_acc: 0.2877\n",
      "Epoch 2/100\n",
      "45/45 [==============================] - 0s 4ms/step - loss: 26.8499 - acc: 0.3556 - val_loss: 21.6117 - val_acc: 0.2877\n",
      "Epoch 3/100\n",
      "45/45 [==============================] - 0s 4ms/step - loss: 21.0070 - acc: 0.3556 - val_loss: 9.6910 - val_acc: 0.2877\n",
      "Epoch 4/100\n",
      "45/45 [==============================] - 0s 4ms/step - loss: 10.6656 - acc: 0.3556 - val_loss: 4.7898 - val_acc: 0.2877\n",
      "Epoch 5/100\n",
      "45/45 [==============================] - 0s 4ms/step - loss: 6.9200 - acc: 0.3556 - val_loss: 3.1247 - val_acc: 0.2877\n",
      "Epoch 6/100\n",
      "45/45 [==============================] - 0s 4ms/step - loss: 5.2654 - acc: 0.3556 - val_loss: 1.5364 - val_acc: 0.2877\n",
      "Epoch 7/100\n",
      "45/45 [==============================] - 0s 4ms/step - loss: 3.6896 - acc: 0.3556 - val_loss: 0.0361 - val_acc: 0.2877\n",
      "Epoch 8/100\n",
      "45/45 [==============================] - 0s 4ms/step - loss: 2.2027 - acc: 0.3556 - val_loss: -1.3701 - val_acc: 0.2877\n",
      "Epoch 9/100\n",
      "45/45 [==============================] - 0s 4ms/step - loss: 0.8105 - acc: 0.3556 - val_loss: -2.6793 - val_acc: 0.2877\n",
      "Epoch 10/100\n",
      "45/45 [==============================] - 0s 4ms/step - loss: -0.4847 - acc: 0.3556 - val_loss: -3.8913 - val_acc: 0.2877\n",
      "Epoch 11/100\n",
      "45/45 [==============================] - 0s 4ms/step - loss: -1.6828 - acc: 0.3556 - val_loss: -5.0077 - val_acc: 0.2877\n",
      "Epoch 12/100\n",
      "45/45 [==============================] - 0s 4ms/step - loss: -2.7857 - acc: 0.3556 - val_loss: -6.0314 - val_acc: 0.2877\n",
      "Epoch 13/100\n",
      "45/45 [==============================] - 0s 4ms/step - loss: -3.7965 - acc: 0.3556 - val_loss: -6.9666 - val_acc: 0.2877\n",
      "Epoch 14/100\n",
      "45/45 [==============================] - 0s 4ms/step - loss: -4.7193 - acc: 0.3556 - val_loss: -7.8179 - val_acc: 0.2877\n",
      "Epoch 15/100\n",
      "45/45 [==============================] - 0s 4ms/step - loss: -5.5591 - acc: 0.3556 - val_loss: -8.5907 - val_acc: 0.2877\n",
      "Epoch 16/100\n",
      "45/45 [==============================] - 0s 4ms/step - loss: -6.3212 - acc: 0.3556 - val_loss: -9.2905 - val_acc: 0.2877\n",
      "Epoch 17/100\n",
      "45/45 [==============================] - 0s 4ms/step - loss: -7.0110 - acc: 0.3556 - val_loss: -9.9228 - val_acc: 0.2877\n",
      "Epoch 18/100\n",
      "45/45 [==============================] - 0s 4ms/step - loss: -7.6342 - acc: 0.3556 - val_loss: -10.4933 - val_acc: 0.2877\n",
      "Epoch 19/100\n",
      "45/45 [==============================] - 0s 4ms/step - loss: -8.1964 - acc: 0.3556 - val_loss: -11.0074 - val_acc: 0.2877\n",
      "Epoch 20/100\n",
      "45/45 [==============================] - 0s 4ms/step - loss: -8.7029 - acc: 0.3556 - val_loss: -11.4704 - val_acc: 0.2877\n",
      "Epoch 21/100\n",
      "45/45 [==============================] - 0s 4ms/step - loss: -9.1591 - acc: 0.3556 - val_loss: -11.8873 - val_acc: 0.2877\n",
      "Epoch 22/100\n",
      "45/45 [==============================] - 0s 4ms/step - loss: -9.5697 - acc: 0.3556 - val_loss: -12.2626 - val_acc: 0.2877\n",
      "Epoch 23/100\n",
      "45/45 [==============================] - 0s 4ms/step - loss: -9.9396 - acc: 0.3556 - val_loss: -12.6008 - val_acc: 0.2877\n",
      "Epoch 24/100\n",
      "45/45 [==============================] - 0s 4ms/step - loss: -10.2728 - acc: 0.3556 - val_loss: -12.9058 - val_acc: 0.2877\n",
      "Epoch 25/100\n",
      "45/45 [==============================] - 0s 4ms/step - loss: -10.5735 - acc: 0.3556 - val_loss: -13.1814 - val_acc: 0.2877\n",
      "Epoch 26/100\n",
      "45/45 [==============================] - 0s 4ms/step - loss: -10.8451 - acc: 0.3556 - val_loss: -13.4307 - val_acc: 0.2877\n",
      "Epoch 27/100\n",
      "45/45 [==============================] - 0s 4ms/step - loss: -11.0910 - acc: 0.3556 - val_loss: -13.6569 - val_acc: 0.2877\n",
      "Epoch 28/100\n",
      "45/45 [==============================] - 0s 4ms/step - loss: -11.3141 - acc: 0.3556 - val_loss: -13.8625 - val_acc: 0.2877\n",
      "Epoch 29/100\n",
      "45/45 [==============================] - 0s 4ms/step - loss: -11.5171 - acc: 0.3556 - val_loss: -14.0501 - val_acc: 0.2877\n",
      "Epoch 30/100\n",
      "45/45 [==============================] - 0s 4ms/step - loss: -11.7022 - acc: 0.3556 - val_loss: -14.2216 - val_acc: 0.2877\n",
      "Epoch 31/100\n",
      "45/45 [==============================] - 0s 4ms/step - loss: -11.8717 - acc: 0.3556 - val_loss: -14.3791 - val_acc: 0.2877\n",
      "Epoch 32/100\n",
      "45/45 [==============================] - 0s 4ms/step - loss: -12.0273 - acc: 0.3556 - val_loss: -14.5240 - val_acc: 0.2877\n",
      "Epoch 33/100\n",
      "45/45 [==============================] - 0s 4ms/step - loss: -12.1706 - acc: 0.3556 - val_loss: -14.6580 - val_acc: 0.2877\n",
      "Epoch 34/100\n",
      "45/45 [==============================] - 0s 4ms/step - loss: -12.3031 - acc: 0.3556 - val_loss: -14.7821 - val_acc: 0.2877\n",
      "Epoch 35/100\n",
      "45/45 [==============================] - 0s 4ms/step - loss: -12.4259 - acc: 0.3556 - val_loss: -14.8976 - val_acc: 0.2877\n",
      "Epoch 36/100\n",
      "45/45 [==============================] - 0s 4ms/step - loss: -12.5403 - acc: 0.3556 - val_loss: -15.0054 - val_acc: 0.2877\n",
      "Epoch 37/100\n",
      "45/45 [==============================] - 0s 4ms/step - loss: -12.6470 - acc: 0.3556 - val_loss: -15.1062 - val_acc: 0.2877\n",
      "Epoch 38/100\n",
      "45/45 [==============================] - 0s 4ms/step - loss: -12.7469 - acc: 0.3556 - val_loss: -15.2008 - val_acc: 0.2877\n",
      "Epoch 39/100\n",
      "45/45 [==============================] - 0s 4ms/step - loss: -12.8407 - acc: 0.3556 - val_loss: -15.2899 - val_acc: 0.2877\n",
      "Epoch 40/100\n",
      "45/45 [==============================] - 0s 4ms/step - loss: -12.9290 - acc: 0.3556 - val_loss: -15.3739 - val_acc: 0.2877\n",
      "Epoch 41/100\n",
      "45/45 [==============================] - 0s 4ms/step - loss: -13.0123 - acc: 0.3556 - val_loss: -15.4532 - val_acc: 0.2877\n",
      "Epoch 42/100\n",
      "45/45 [==============================] - 0s 4ms/step - loss: -13.0911 - acc: 0.3556 - val_loss: -15.5284 - val_acc: 0.2877\n",
      "Epoch 43/100\n",
      "45/45 [==============================] - 0s 4ms/step - loss: -13.1656 - acc: 0.3556 - val_loss: -15.5997 - val_acc: 0.2877\n",
      "Epoch 44/100\n",
      "45/45 [==============================] - 0s 4ms/step - loss: -13.2364 - acc: 0.3556 - val_loss: -15.6674 - val_acc: 0.2877\n",
      "Epoch 45/100\n",
      "45/45 [==============================] - 0s 4ms/step - loss: -13.3036 - acc: 0.3556 - val_loss: -15.7317 - val_acc: 0.2877\n",
      "Epoch 46/100\n",
      "45/45 [==============================] - 0s 4ms/step - loss: -13.3676 - acc: 0.3556 - val_loss: -15.7931 - val_acc: 0.2877\n",
      "Epoch 47/100\n",
      "45/45 [==============================] - 0s 4ms/step - loss: -13.4284 - acc: 0.3556 - val_loss: -15.8515 - val_acc: 0.2877\n",
      "Epoch 48/100\n",
      "45/45 [==============================] - 0s 4ms/step - loss: -13.4865 - acc: 0.3556 - val_loss: -15.9072 - val_acc: 0.2877\n",
      "Epoch 49/100\n",
      "45/45 [==============================] - 0s 4ms/step - loss: -13.5418 - acc: 0.3556 - val_loss: -15.9604 - val_acc: 0.2877\n",
      "Epoch 50/100\n",
      "45/45 [==============================] - 0s 4ms/step - loss: -13.5947 - acc: 0.3556 - val_loss: -16.0112 - val_acc: 0.2877\n",
      "Epoch 51/100\n",
      "45/45 [==============================] - 0s 4ms/step - loss: -13.6451 - acc: 0.3556 - val_loss: -16.0598 - val_acc: 0.2877\n",
      "Epoch 52/100\n",
      "45/45 [==============================] - 0s 4ms/step - loss: -13.6934 - acc: 0.3556 - val_loss: -16.1062 - val_acc: 0.2877\n",
      "Epoch 53/100\n",
      "45/45 [==============================] - 0s 4ms/step - loss: -13.7395 - acc: 0.3556 - val_loss: -16.1505 - val_acc: 0.2877\n",
      "Epoch 54/100\n",
      "45/45 [==============================] - 0s 4ms/step - loss: -13.7836 - acc: 0.3556 - val_loss: -16.1930 - val_acc: 0.2877\n",
      "Epoch 55/100\n",
      "45/45 [==============================] - 0s 4ms/step - loss: -13.8258 - acc: 0.3556 - val_loss: -16.2336 - val_acc: 0.2877\n",
      "Epoch 56/100\n",
      "45/45 [==============================] - 0s 4ms/step - loss: -13.8661 - acc: 0.3556 - val_loss: -16.2725 - val_acc: 0.2877\n",
      "Epoch 57/100\n",
      "45/45 [==============================] - 0s 4ms/step - loss: -13.9048 - acc: 0.3556 - val_loss: -16.3097 - val_acc: 0.2877\n",
      "Epoch 58/100\n",
      "45/45 [==============================] - 0s 4ms/step - loss: -13.9418 - acc: 0.3556 - val_loss: -16.3454 - val_acc: 0.2877\n",
      "Epoch 59/100\n",
      "45/45 [==============================] - 0s 4ms/step - loss: -13.9772 - acc: 0.3556 - val_loss: -16.3759 - val_acc: 0.2877\n",
      "Epoch 60/100\n",
      "45/45 [==============================] - 0s 4ms/step - loss: -14.0065 - acc: 0.3556 - val_loss: -16.4017 - val_acc: 0.2877\n",
      "Epoch 61/100\n"
     ]
    },
    {
     "name": "stdout",
     "output_type": "stream",
     "text": [
      "45/45 [==============================] - 0s 4ms/step - loss: -14.0322 - acc: 0.3556 - val_loss: -16.4271 - val_acc: 0.2877\n",
      "Epoch 62/100\n",
      "45/45 [==============================] - 0s 4ms/step - loss: -14.0576 - acc: 0.3556 - val_loss: -16.4524 - val_acc: 0.2877\n",
      "Epoch 63/100\n",
      "45/45 [==============================] - 0s 4ms/step - loss: -14.0829 - acc: 0.3556 - val_loss: -16.4776 - val_acc: 0.2877\n",
      "Epoch 64/100\n",
      "45/45 [==============================] - 0s 4ms/step - loss: -14.1081 - acc: 0.3556 - val_loss: -16.4971 - val_acc: 0.2877\n",
      "Epoch 65/100\n",
      "45/45 [==============================] - 0s 4ms/step - loss: -14.1331 - acc: 0.3556 - val_loss: -16.5275 - val_acc: 0.2877\n",
      "Epoch 66/100\n",
      "45/45 [==============================] - 0s 4ms/step - loss: -14.1574 - acc: 0.3556 - val_loss: -16.5489 - val_acc: 0.2877\n",
      "Epoch 67/100\n",
      "45/45 [==============================] - 0s 4ms/step - loss: -14.1788 - acc: 0.3556 - val_loss: -16.5703 - val_acc: 0.2877\n",
      "Epoch 68/100\n",
      "45/45 [==============================] - 0s 4ms/step - loss: -14.2003 - acc: 0.3556 - val_loss: -16.5823 - val_acc: 0.2877\n",
      "Epoch 69/100\n",
      "45/45 [==============================] - 0s 4ms/step - loss: -14.2217 - acc: 0.3556 - val_loss: -16.5981 - val_acc: 0.2877\n",
      "Epoch 70/100\n",
      "45/45 [==============================] - 0s 4ms/step - loss: -14.2430 - acc: 0.3556 - val_loss: -16.6136 - val_acc: 0.2877\n",
      "Epoch 71/100\n",
      "45/45 [==============================] - 0s 4ms/step - loss: -14.2640 - acc: 0.3556 - val_loss: -16.6256 - val_acc: 0.2877\n",
      "Epoch 72/100\n",
      "45/45 [==============================] - 0s 4ms/step - loss: -14.2594 - acc: 0.3556 - val_loss: -16.6471 - val_acc: 0.2877\n",
      "Epoch 73/100\n",
      "45/45 [==============================] - 0s 4ms/step - loss: -14.2727 - acc: 0.3556 - val_loss: -16.6774 - val_acc: 0.2877\n",
      "Epoch 74/100\n",
      "45/45 [==============================] - 0s 4ms/step - loss: -14.3056 - acc: 0.3556 - val_loss: -16.6870 - val_acc: 0.2877\n",
      "Epoch 75/100\n",
      "45/45 [==============================] - 0s 4ms/step - loss: -14.3155 - acc: 0.3556 - val_loss: -16.6984 - val_acc: 0.2877\n",
      "Epoch 76/100\n",
      "45/45 [==============================] - 0s 4ms/step - loss: -14.3270 - acc: 0.3556 - val_loss: -16.7112 - val_acc: 0.2877\n",
      "Epoch 77/100\n",
      "45/45 [==============================] - 0s 4ms/step - loss: -14.3401 - acc: 0.3556 - val_loss: -16.7251 - val_acc: 0.2877\n",
      "Epoch 78/100\n",
      "45/45 [==============================] - 0s 4ms/step - loss: -14.3541 - acc: 0.3556 - val_loss: -16.7398 - val_acc: 0.2877\n",
      "Epoch 79/100\n",
      "45/45 [==============================] - 0s 4ms/step - loss: -14.3688 - acc: 0.3556 - val_loss: -16.7548 - val_acc: 0.2877\n",
      "Epoch 80/100\n",
      "45/45 [==============================] - 0s 4ms/step - loss: -14.3838 - acc: 0.3556 - val_loss: -16.7700 - val_acc: 0.2877\n",
      "Epoch 81/100\n",
      "45/45 [==============================] - 0s 4ms/step - loss: -14.3990 - acc: 0.3556 - val_loss: -16.7852 - val_acc: 0.2877\n",
      "Epoch 82/100\n",
      "45/45 [==============================] - 0s 4ms/step - loss: -14.4142 - acc: 0.3556 - val_loss: -16.7878 - val_acc: 0.2877\n",
      "Epoch 83/100\n",
      "45/45 [==============================] - 0s 4ms/step - loss: -14.4044 - acc: 0.3556 - val_loss: -16.7970 - val_acc: 0.2877\n",
      "Epoch 84/100\n",
      "45/45 [==============================] - 0s 4ms/step - loss: -14.4406 - acc: 0.3556 - val_loss: -16.8090 - val_acc: 0.2877\n",
      "Epoch 85/100\n",
      "45/45 [==============================] - 0s 4ms/step - loss: -14.4516 - acc: 0.3556 - val_loss: -16.8287 - val_acc: 0.2877\n",
      "Epoch 86/100\n",
      "45/45 [==============================] - 0s 4ms/step - loss: -14.4563 - acc: 0.3556 - val_loss: -16.8346 - val_acc: 0.2877\n",
      "Epoch 87/100\n",
      "45/45 [==============================] - 0s 4ms/step - loss: -14.4625 - acc: 0.3556 - val_loss: -16.8422 - val_acc: 0.2877\n",
      "Epoch 88/100\n",
      "45/45 [==============================] - 0s 4ms/step - loss: -14.4703 - acc: 0.3556 - val_loss: -16.8513 - val_acc: 0.2877\n",
      "Epoch 89/100\n",
      "45/45 [==============================] - 0s 4ms/step - loss: -14.4795 - acc: 0.3556 - val_loss: -16.8614 - val_acc: 0.2877\n",
      "Epoch 90/100\n",
      "45/45 [==============================] - 0s 4ms/step - loss: -14.4898 - acc: 0.3556 - val_loss: -16.8722 - val_acc: 0.2877\n",
      "Epoch 91/100\n",
      "45/45 [==============================] - 0s 4ms/step - loss: -14.5006 - acc: 0.3556 - val_loss: -16.8738 - val_acc: 0.2877\n",
      "Epoch 92/100\n",
      "45/45 [==============================] - 0s 4ms/step - loss: -14.5112 - acc: 0.3556 - val_loss: -16.8811 - val_acc: 0.2877\n",
      "Epoch 93/100\n",
      "45/45 [==============================] - 0s 4ms/step - loss: -14.5089 - acc: 0.3556 - val_loss: -16.8943 - val_acc: 0.2877\n",
      "Epoch 94/100\n",
      "45/45 [==============================] - 0s 4ms/step - loss: -14.5219 - acc: 0.3556 - val_loss: -16.8995 - val_acc: 0.2877\n",
      "Epoch 95/100\n",
      "45/45 [==============================] - 0s 4ms/step - loss: -14.5273 - acc: 0.3556 - val_loss: -16.9000 - val_acc: 0.2877\n",
      "Epoch 96/100\n",
      "45/45 [==============================] - 0s 4ms/step - loss: -14.5261 - acc: 0.3556 - val_loss: -16.8953 - val_acc: 0.2877\n",
      "Epoch 97/100\n",
      "45/45 [==============================] - 0s 4ms/step - loss: -14.5218 - acc: 0.3556 - val_loss: -16.8935 - val_acc: 0.2877\n",
      "Epoch 98/100\n",
      "45/45 [==============================] - 0s 4ms/step - loss: -14.5205 - acc: 0.3556 - val_loss: -16.8952 - val_acc: 0.2877\n",
      "Epoch 99/100\n",
      "45/45 [==============================] - 0s 4ms/step - loss: -14.5227 - acc: 0.3556 - val_loss: -16.9001 - val_acc: 0.2877\n",
      "Epoch 100/100\n",
      "45/45 [==============================] - 0s 4ms/step - loss: -14.5280 - acc: 0.3556 - val_loss: -16.9075 - val_acc: 0.2877\n"
     ]
    }
   ],
   "source": [
    "model_3.compile(optimizer='adam',\n",
    "              loss='binary_crossentropy',\n",
    "              metrics=['accuracy'])\n",
    "hist_3 = model_3.fit(X_train, Y_train,\n",
    "          batch_size=32, epochs=100,\n",
    "          validation_data=(X_val, Y_val))"
   ]
  },
  {
   "cell_type": "code",
   "execution_count": 28,
   "metadata": {},
   "outputs": [
    {
     "data": {
      "image/png": "[encoded data removed]",
      "text/plain": [
       "<Figure size 432x288 with 1 Axes>"
      ]
     },
     "metadata": {
      "needs_background": "light"
     },
     "output_type": "display_data"
    }
   ],
   "source": [
    "plt.plot(hist_3.history['loss'])\n",
    "plt.plot(hist_3.history['val_loss'])\n",
    "plt.title('Model loss')\n",
    "plt.ylabel('Loss')\n",
    "plt.xlabel('Epoch')\n",
    "plt.legend(['Train', 'Val'], loc='upper right')\n",
    "plt.ylim(top=1.2, bottom=0)\n",
    "plt.show()"
   ]
  },
  {
   "cell_type": "code",
   "execution_count": 29,
   "metadata": {},
   "outputs": [
    {
     "data": {
      "image/png": "[encoded data removed]",
      "text/plain": [
       "<Figure size 432x288 with 1 Axes>"
      ]
     },
     "metadata": {
      "needs_background": "light"
     },
     "output_type": "display_data"
    }
   ],
   "source": [
    "plt.plot(hist_3.history['acc'])\n",
    "plt.plot(hist_3.history['val_acc'])\n",
    "plt.title('Model accuracy')\n",
    "plt.ylabel('Accuracy')\n",
    "plt.xlabel('Epoch')\n",
    "plt.legend(['Train', 'Val'], loc='lower right')\n",
    "plt.show()"
   ]
  },
  {
   "cell_type": "code",
   "execution_count": null,
   "metadata": {},
   "outputs": [],
   "source": []
  },
  {
   "cell_type": "code",
   "execution_count": null,
   "metadata": {},
   "outputs": [],
   "source": []
  },
  {
   "cell_type": "code",
   "execution_count": null,
   "metadata": {},
   "outputs": [],
   "source": []
  },
  {
   "cell_type": "code",
   "execution_count": null,
   "metadata": {},
   "outputs": [],
   "source": []
  },
  {
   "cell_type": "code",
   "execution_count": null,
   "metadata": {},
   "outputs": [],
   "source": []
  },
  {
   "cell_type": "code",
   "execution_count": null,
   "metadata": {},
   "outputs": [],
   "source": []
  },
  {
   "cell_type": "code",
   "execution_count": null,
   "metadata": {},
   "outputs": [],
   "source": []
  },
  {
   "cell_type": "code",
   "execution_count": null,
   "metadata": {},
   "outputs": [],
   "source": []
  },
  {
   "cell_type": "code",
   "execution_count": null,
   "metadata": {},
   "outputs": [],
   "source": []
  },
  {
   "cell_type": "code",
   "execution_count": null,
   "metadata": {},
   "outputs": [],
   "source": []
  }
 ],
 "metadata": {
  "kernelspec": {
   "display_name": "Python 3",
   "language": "python",
   "name": "python3"
  },
  "language_info": {
   "codemirror_mode": {
    "name": "ipython",
    "version": 3
   },
   "file_extension": ".py",
   "mimetype": "text/x-python",
   "name": "python",
   "nbconvert_exporter": "python",
   "pygments_lexer": "ipython3",
   "version": "3.6.8"
  }
 },
 "nbformat": 4,
 "nbformat_minor": 2
}
