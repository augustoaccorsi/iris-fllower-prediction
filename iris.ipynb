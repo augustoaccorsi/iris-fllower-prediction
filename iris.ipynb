{
 "cells": [
  {
   "cell_type": "code",
   "execution_count": 213,
   "metadata": {},
   "outputs": [],
   "source": [
    "import pandas as pd\n",
    "from sklearn import preprocessing\n",
    "from sklearn.model_selection import train_test_split\n",
    "from keras.models import Sequential\n",
    "from keras.layers import Dense\n",
    "import matplotlib.pyplot as plt\n",
    "from keras.layers import Dropout\n",
    "from keras import regularizers\n",
    "from keras.optimizers import SGD,Adam"
   ]
  },
  {
   "cell_type": "code",
   "execution_count": 214,
   "metadata": {},
   "outputs": [],
   "source": [
    "dataset = pd.read_csv('./data/Iris.csv')"
   ]
  },
  {
   "cell_type": "code",
   "execution_count": null,
   "metadata": {},
   "outputs": [],
   "source": []
  },
  {
   "cell_type": "code",
   "execution_count": null,
   "metadata": {},
   "outputs": [],
   "source": []
  },
  {
   "cell_type": "code",
   "execution_count": null,
   "metadata": {},
   "outputs": [],
   "source": []
  },
  {
   "cell_type": "code",
   "execution_count": null,
   "metadata": {},
   "outputs": [],
   "source": []
  },
  {
   "cell_type": "code",
   "execution_count": null,
   "metadata": {},
   "outputs": [],
   "source": []
  },
  {
   "cell_type": "code",
   "execution_count": null,
   "metadata": {},
   "outputs": [],
   "source": []
  },
  {
   "cell_type": "code",
   "execution_count": null,
   "metadata": {},
   "outputs": [],
   "source": []
  },
  {
   "cell_type": "code",
   "execution_count": null,
   "metadata": {},
   "outputs": [],
   "source": []
  },
  {
   "cell_type": "code",
   "execution_count": null,
   "metadata": {},
   "outputs": [],
   "source": []
  },
  {
   "cell_type": "code",
   "execution_count": 215,
   "metadata": {},
   "outputs": [],
   "source": [
    "X = dataset.iloc[:,1:5].values\n",
    "y = dataset.iloc[:,5].values\n",
    "\n",
    "from sklearn.preprocessing import LabelEncoder\n",
    "encoder =  LabelEncoder()\n",
    "y1 = encoder.fit_transform(y)\n",
    "\n",
    "Y = pd.get_dummies(y1).values\n",
    "\n",
    "\n",
    "from sklearn.model_selection import train_test_split\n",
    "X_train, X_val_and_test, Y_train, Y_val_and_test = train_test_split(X, Y, test_size=0.3)"
   ]
  },
  {
   "cell_type": "code",
   "execution_count": 216,
   "metadata": {},
   "outputs": [],
   "source": [
    "X_val, X_test, Y_val, Y_test = train_test_split(X_val_and_test, Y_val_and_test, test_size=0.5)"
   ]
  },
  {
   "cell_type": "code",
   "execution_count": 217,
   "metadata": {},
   "outputs": [],
   "source": [
    "#X_train (5 input features, 70% of full dataset)\n",
    "#X_val (5 input features, 15% of full dataset)\n",
    "#X_test (5 input features, 15% of full dataset)\n",
    "#Y_train (1 label, 70% of full dataset)\n",
    "#Y_val (1 label, 15% of full dataset)\n",
    "#Y_test (1 label, 15% of full dataset)"
   ]
  },
  {
   "cell_type": "code",
   "execution_count": null,
   "metadata": {},
   "outputs": [],
   "source": []
  },
  {
   "cell_type": "code",
   "execution_count": 218,
   "metadata": {},
   "outputs": [
    {
     "name": "stdout",
     "output_type": "stream",
     "text": [
      "_________________________________________________________________\n",
      "Layer (type)                 Output Shape              Param #   \n",
      "=================================================================\n",
      "dense_58 (Dense)             (None, 10)                50        \n",
      "_________________________________________________________________\n",
      "dense_59 (Dense)             (None, 3)                 33        \n",
      "=================================================================\n",
      "Total params: 83\n",
      "Trainable params: 83\n",
      "Non-trainable params: 0\n",
      "_________________________________________________________________\n"
     ]
    }
   ],
   "source": [
    "model = Sequential()\n",
    "\n",
    "model.add(Dense(10,input_shape=(4,),activation='elu'))\n",
    "model.add(Dense(3,activation='softmax'))\n",
    "\n",
    "model.compile(Adam(lr=0.04),'categorical_crossentropy',metrics=['accuracy'])\n",
    "\n",
    "model.summary()"
   ]
  },
  {
   "cell_type": "code",
   "execution_count": 219,
   "metadata": {},
   "outputs": [],
   "source": [
    "model.compile(optimizer='sgd',\n",
    "              loss='categorical_crossentropy',\n",
    "              metrics=['accuracy'])"
   ]
  },
  {
   "cell_type": "code",
   "execution_count": 220,
   "metadata": {},
   "outputs": [],
   "source": [
    "optimizer='sgd'"
   ]
  },
  {
   "cell_type": "code",
   "execution_count": 221,
   "metadata": {},
   "outputs": [],
   "source": [
    "loss='binary_crossentropy'"
   ]
  },
  {
   "cell_type": "code",
   "execution_count": 222,
   "metadata": {},
   "outputs": [],
   "source": [
    "metrics=['accuracy']"
   ]
  },
  {
   "cell_type": "code",
   "execution_count": 223,
   "metadata": {},
   "outputs": [
    {
     "name": "stdout",
     "output_type": "stream",
     "text": [
      "Train on 105 samples, validate on 22 samples\n",
      "Epoch 1/100\n",
      "105/105 [==============================] - 1s 7ms/step - loss: 2.5697 - acc: 0.3429 - val_loss: 1.8540 - val_acc: 0.3182\n",
      "Epoch 2/100\n",
      "105/105 [==============================] - 0s 109us/step - loss: 1.4376 - acc: 0.3429 - val_loss: 1.4150 - val_acc: 0.3182\n",
      "Epoch 3/100\n",
      "105/105 [==============================] - 0s 171us/step - loss: 1.1278 - acc: 0.3429 - val_loss: 1.1162 - val_acc: 0.3182\n",
      "Epoch 4/100\n",
      "105/105 [==============================] - 0s 142us/step - loss: 0.9513 - acc: 0.3429 - val_loss: 0.9950 - val_acc: 0.1818\n",
      "Epoch 5/100\n",
      "105/105 [==============================] - 0s 184us/step - loss: 0.8652 - acc: 0.5048 - val_loss: 0.8877 - val_acc: 0.6364\n",
      "Epoch 6/100\n",
      "105/105 [==============================] - 0s 135us/step - loss: 0.8207 - acc: 0.5905 - val_loss: 0.8616 - val_acc: 0.6818\n",
      "Epoch 7/100\n",
      "105/105 [==============================] - 0s 151us/step - loss: 0.7994 - acc: 0.6571 - val_loss: 0.8054 - val_acc: 0.6818\n",
      "Epoch 8/100\n",
      "105/105 [==============================] - 0s 120us/step - loss: 0.7763 - acc: 0.6476 - val_loss: 0.7447 - val_acc: 0.6364\n",
      "Epoch 9/100\n",
      "105/105 [==============================] - 0s 147us/step - loss: 0.7586 - acc: 0.6476 - val_loss: 0.7304 - val_acc: 0.6364\n",
      "Epoch 10/100\n",
      "105/105 [==============================] - 0s 98us/step - loss: 0.7423 - acc: 0.6381 - val_loss: 0.7104 - val_acc: 0.6364\n",
      "Epoch 11/100\n",
      "105/105 [==============================] - 0s 120us/step - loss: 0.7300 - acc: 0.6476 - val_loss: 0.6755 - val_acc: 0.7273\n",
      "Epoch 12/100\n",
      "105/105 [==============================] - 0s 91us/step - loss: 0.7139 - acc: 0.6857 - val_loss: 0.6658 - val_acc: 0.8182\n",
      "Epoch 13/100\n",
      "105/105 [==============================] - 0s 120us/step - loss: 0.7046 - acc: 0.6857 - val_loss: 0.6575 - val_acc: 0.7727\n",
      "Epoch 14/100\n",
      "105/105 [==============================] - 0s 89us/step - loss: 0.6917 - acc: 0.6762 - val_loss: 0.6481 - val_acc: 0.6818\n",
      "Epoch 15/100\n",
      "105/105 [==============================] - 0s 128us/step - loss: 0.6760 - acc: 0.6857 - val_loss: 0.6244 - val_acc: 0.6818\n",
      "Epoch 16/100\n",
      "105/105 [==============================] - 0s 71us/step - loss: 0.6678 - acc: 0.6857 - val_loss: 0.6109 - val_acc: 0.6818\n",
      "Epoch 17/100\n",
      "105/105 [==============================] - 0s 122us/step - loss: 0.6568 - acc: 0.6667 - val_loss: 0.6151 - val_acc: 0.6818\n",
      "Epoch 18/100\n",
      "105/105 [==============================] - 0s 92us/step - loss: 0.6503 - acc: 0.6571 - val_loss: 0.5889 - val_acc: 0.6818\n",
      "Epoch 19/100\n",
      "105/105 [==============================] - 0s 137us/step - loss: 0.6393 - acc: 0.6667 - val_loss: 0.5960 - val_acc: 0.6818\n",
      "Epoch 20/100\n",
      "105/105 [==============================] - 0s 91us/step - loss: 0.6310 - acc: 0.6571 - val_loss: 0.5832 - val_acc: 0.6818\n",
      "Epoch 21/100\n",
      "105/105 [==============================] - 0s 131us/step - loss: 0.6262 - acc: 0.6857 - val_loss: 0.5762 - val_acc: 0.7273\n",
      "Epoch 22/100\n",
      "105/105 [==============================] - 0s 66us/step - loss: 0.6173 - acc: 0.6952 - val_loss: 0.5764 - val_acc: 0.7273\n",
      "Epoch 23/100\n",
      "105/105 [==============================] - 0s 86us/step - loss: 0.6120 - acc: 0.6667 - val_loss: 0.5546 - val_acc: 0.7273\n",
      "Epoch 24/100\n",
      "105/105 [==============================] - 0s 107us/step - loss: 0.6061 - acc: 0.7048 - val_loss: 0.5444 - val_acc: 0.7273\n",
      "Epoch 25/100\n",
      "105/105 [==============================] - 0s 75us/step - loss: 0.6003 - acc: 0.7143 - val_loss: 0.5506 - val_acc: 0.6818\n",
      "Epoch 26/100\n",
      "105/105 [==============================] - 0s 87us/step - loss: 0.5943 - acc: 0.6571 - val_loss: 0.5313 - val_acc: 0.7727\n",
      "Epoch 27/100\n",
      "105/105 [==============================] - 0s 123us/step - loss: 0.5927 - acc: 0.6667 - val_loss: 0.5231 - val_acc: 0.8182\n",
      "Epoch 28/100\n",
      "105/105 [==============================] - 0s 110us/step - loss: 0.5861 - acc: 0.7524 - val_loss: 0.5198 - val_acc: 0.7273\n",
      "Epoch 29/100\n",
      "105/105 [==============================] - 0s 109us/step - loss: 0.5851 - acc: 0.7048 - val_loss: 0.5091 - val_acc: 0.7273\n",
      "Epoch 30/100\n",
      "105/105 [==============================] - 0s 109us/step - loss: 0.5750 - acc: 0.7333 - val_loss: 0.5106 - val_acc: 0.7273\n",
      "Epoch 31/100\n",
      "105/105 [==============================] - 0s 85us/step - loss: 0.5731 - acc: 0.6762 - val_loss: 0.4880 - val_acc: 0.8636\n",
      "Epoch 32/100\n",
      "105/105 [==============================] - 0s 116us/step - loss: 0.5729 - acc: 0.7048 - val_loss: 0.4875 - val_acc: 0.8182\n",
      "Epoch 33/100\n",
      "105/105 [==============================] - 0s 78us/step - loss: 0.5732 - acc: 0.7238 - val_loss: 0.4782 - val_acc: 0.8636\n",
      "Epoch 34/100\n",
      "105/105 [==============================] - 0s 86us/step - loss: 0.5673 - acc: 0.7333 - val_loss: 0.4942 - val_acc: 0.7273\n",
      "Epoch 35/100\n",
      "105/105 [==============================] - 0s 114us/step - loss: 0.5563 - acc: 0.7524 - val_loss: 0.4883 - val_acc: 0.7273\n",
      "Epoch 36/100\n",
      "105/105 [==============================] - 0s 73us/step - loss: 0.5526 - acc: 0.7619 - val_loss: 0.5005 - val_acc: 0.6818\n",
      "Epoch 37/100\n",
      "105/105 [==============================] - 0s 83us/step - loss: 0.5501 - acc: 0.6952 - val_loss: 0.4869 - val_acc: 0.7273\n",
      "Epoch 38/100\n",
      "105/105 [==============================] - 0s 119us/step - loss: 0.5470 - acc: 0.6667 - val_loss: 0.4674 - val_acc: 0.9091\n",
      "Epoch 39/100\n",
      "105/105 [==============================] - 0s 80us/step - loss: 0.5401 - acc: 0.7619 - val_loss: 0.4571 - val_acc: 0.8636\n",
      "Epoch 40/100\n",
      "105/105 [==============================] - 0s 89us/step - loss: 0.5400 - acc: 0.7905 - val_loss: 0.4498 - val_acc: 0.8636\n",
      "Epoch 41/100\n",
      "105/105 [==============================] - 0s 64us/step - loss: 0.5400 - acc: 0.7429 - val_loss: 0.4485 - val_acc: 0.8636\n",
      "Epoch 42/100\n",
      "105/105 [==============================] - 0s 69us/step - loss: 0.5348 - acc: 0.7333 - val_loss: 0.4422 - val_acc: 0.8636\n",
      "Epoch 43/100\n",
      "105/105 [==============================] - 0s 74us/step - loss: 0.5338 - acc: 0.7714 - val_loss: 0.4479 - val_acc: 0.9091\n",
      "Epoch 44/100\n",
      "105/105 [==============================] - 0s 94us/step - loss: 0.5232 - acc: 0.8476 - val_loss: 0.4456 - val_acc: 0.9091\n",
      "Epoch 45/100\n",
      "105/105 [==============================] - 0s 115us/step - loss: 0.5202 - acc: 0.8667 - val_loss: 0.4589 - val_acc: 0.7273\n",
      "Epoch 46/100\n",
      "105/105 [==============================] - 0s 160us/step - loss: 0.5182 - acc: 0.7143 - val_loss: 0.4378 - val_acc: 0.9091\n",
      "Epoch 47/100\n",
      "105/105 [==============================] - 0s 89us/step - loss: 0.5187 - acc: 0.7905 - val_loss: 0.4597 - val_acc: 0.7273\n",
      "Epoch 48/100\n",
      "105/105 [==============================] - 0s 87us/step - loss: 0.5165 - acc: 0.6762 - val_loss: 0.4348 - val_acc: 0.8182\n",
      "Epoch 49/100\n",
      "105/105 [==============================] - 0s 110us/step - loss: 0.5106 - acc: 0.7524 - val_loss: 0.4189 - val_acc: 0.9091\n",
      "Epoch 50/100\n",
      "105/105 [==============================] - 0s 71us/step - loss: 0.5074 - acc: 0.8476 - val_loss: 0.4199 - val_acc: 0.9545\n",
      "Epoch 51/100\n",
      "105/105 [==============================] - 0s 93us/step - loss: 0.5034 - acc: 0.8571 - val_loss: 0.4120 - val_acc: 0.9091\n",
      "Epoch 52/100\n",
      "105/105 [==============================] - 0s 131us/step - loss: 0.5034 - acc: 0.8476 - val_loss: 0.4276 - val_acc: 0.7273\n",
      "Epoch 53/100\n",
      "105/105 [==============================] - 0s 115us/step - loss: 0.4984 - acc: 0.8190 - val_loss: 0.4400 - val_acc: 0.7273\n",
      "Epoch 54/100\n",
      "105/105 [==============================] - 0s 149us/step - loss: 0.4980 - acc: 0.6667 - val_loss: 0.4064 - val_acc: 0.9545\n",
      "Epoch 55/100\n",
      "105/105 [==============================] - 0s 66us/step - loss: 0.4950 - acc: 0.8667 - val_loss: 0.3951 - val_acc: 0.8636\n",
      "Epoch 56/100\n",
      "105/105 [==============================] - 0s 124us/step - loss: 0.4988 - acc: 0.7524 - val_loss: 0.4058 - val_acc: 0.9091\n",
      "Epoch 57/100\n",
      "105/105 [==============================] - 0s 94us/step - loss: 0.4887 - acc: 0.8571 - val_loss: 0.3908 - val_acc: 0.9545\n",
      "Epoch 58/100\n",
      "105/105 [==============================] - 0s 97us/step - loss: 0.4912 - acc: 0.8381 - val_loss: 0.3886 - val_acc: 0.9545\n",
      "Epoch 59/100\n",
      "105/105 [==============================] - 0s 112us/step - loss: 0.4872 - acc: 0.8952 - val_loss: 0.3908 - val_acc: 0.9545\n",
      "Epoch 60/100\n",
      "105/105 [==============================] - 0s 90us/step - loss: 0.4825 - acc: 0.8952 - val_loss: 0.3876 - val_acc: 0.9545\n",
      "Epoch 61/100\n"
     ]
    },
    {
     "name": "stdout",
     "output_type": "stream",
     "text": [
      "105/105 [==============================] - 0s 76us/step - loss: 0.4821 - acc: 0.8952 - val_loss: 0.3824 - val_acc: 0.9545\n",
      "Epoch 62/100\n",
      "105/105 [==============================] - 0s 76us/step - loss: 0.4822 - acc: 0.8857 - val_loss: 0.3749 - val_acc: 0.8636\n",
      "Epoch 63/100\n",
      "105/105 [==============================] - 0s 69us/step - loss: 0.4841 - acc: 0.8095 - val_loss: 0.3781 - val_acc: 0.9545\n",
      "Epoch 64/100\n",
      "105/105 [==============================] - 0s 71us/step - loss: 0.4837 - acc: 0.8476 - val_loss: 0.3809 - val_acc: 0.9545\n",
      "Epoch 65/100\n",
      "105/105 [==============================] - 0s 86us/step - loss: 0.4707 - acc: 0.8952 - val_loss: 0.3786 - val_acc: 0.9545\n",
      "Epoch 66/100\n",
      "105/105 [==============================] - 0s 101us/step - loss: 0.4674 - acc: 0.9238 - val_loss: 0.3793 - val_acc: 0.9091\n",
      "Epoch 67/100\n",
      "105/105 [==============================] - 0s 99us/step - loss: 0.4662 - acc: 0.8571 - val_loss: 0.3674 - val_acc: 0.9545\n",
      "Epoch 68/100\n",
      "105/105 [==============================] - 0s 106us/step - loss: 0.4649 - acc: 0.9048 - val_loss: 0.3727 - val_acc: 0.9545\n",
      "Epoch 69/100\n",
      "105/105 [==============================] - 0s 91us/step - loss: 0.4617 - acc: 0.8952 - val_loss: 0.3686 - val_acc: 0.9545\n",
      "Epoch 70/100\n",
      "105/105 [==============================] - 0s 71us/step - loss: 0.4602 - acc: 0.9238 - val_loss: 0.3594 - val_acc: 0.9545\n",
      "Epoch 71/100\n",
      "105/105 [==============================] - 0s 67us/step - loss: 0.4612 - acc: 0.9048 - val_loss: 0.3858 - val_acc: 0.7273\n",
      "Epoch 72/100\n",
      "105/105 [==============================] - 0s 70us/step - loss: 0.4584 - acc: 0.7524 - val_loss: 0.3669 - val_acc: 0.9091\n",
      "Epoch 73/100\n",
      "105/105 [==============================] - 0s 89us/step - loss: 0.4531 - acc: 0.9048 - val_loss: 0.3650 - val_acc: 0.9091\n",
      "Epoch 74/100\n",
      "105/105 [==============================] - 0s 102us/step - loss: 0.4532 - acc: 0.8381 - val_loss: 0.3454 - val_acc: 0.9545\n",
      "Epoch 75/100\n",
      "105/105 [==============================] - 0s 99us/step - loss: 0.4549 - acc: 0.8667 - val_loss: 0.3518 - val_acc: 0.9545\n",
      "Epoch 76/100\n",
      "105/105 [==============================] - 0s 93us/step - loss: 0.4492 - acc: 0.9429 - val_loss: 0.3645 - val_acc: 0.8636\n",
      "Epoch 77/100\n",
      "105/105 [==============================] - 0s 95us/step - loss: 0.4473 - acc: 0.8571 - val_loss: 0.3625 - val_acc: 0.8636\n",
      "Epoch 78/100\n",
      "105/105 [==============================] - 0s 103us/step - loss: 0.4488 - acc: 0.8762 - val_loss: 0.3484 - val_acc: 0.9545\n",
      "Epoch 79/100\n",
      "105/105 [==============================] - 0s 109us/step - loss: 0.4449 - acc: 0.8857 - val_loss: 0.3517 - val_acc: 0.9091\n",
      "Epoch 80/100\n",
      "105/105 [==============================] - 0s 83us/step - loss: 0.4440 - acc: 0.8857 - val_loss: 0.3516 - val_acc: 0.9091\n",
      "Epoch 81/100\n",
      "105/105 [==============================] - 0s 98us/step - loss: 0.4399 - acc: 0.8476 - val_loss: 0.3346 - val_acc: 0.9545\n",
      "Epoch 82/100\n",
      "105/105 [==============================] - 0s 87us/step - loss: 0.4393 - acc: 0.9333 - val_loss: 0.3473 - val_acc: 0.9091\n",
      "Epoch 83/100\n",
      "105/105 [==============================] - 0s 96us/step - loss: 0.4360 - acc: 0.8762 - val_loss: 0.3440 - val_acc: 0.9091\n",
      "Epoch 84/100\n",
      "105/105 [==============================] - 0s 164us/step - loss: 0.4339 - acc: 0.9238 - val_loss: 0.3520 - val_acc: 0.8636\n",
      "Epoch 85/100\n",
      "105/105 [==============================] - 0s 120us/step - loss: 0.4343 - acc: 0.8381 - val_loss: 0.3423 - val_acc: 0.9091\n",
      "Epoch 86/100\n",
      "105/105 [==============================] - 0s 101us/step - loss: 0.4317 - acc: 0.8571 - val_loss: 0.3221 - val_acc: 1.0000\n",
      "Epoch 87/100\n",
      "105/105 [==============================] - 0s 91us/step - loss: 0.4333 - acc: 0.9333 - val_loss: 0.3303 - val_acc: 0.9545\n",
      "Epoch 88/100\n",
      "105/105 [==============================] - 0s 77us/step - loss: 0.4281 - acc: 0.9429 - val_loss: 0.3525 - val_acc: 0.8182\n",
      "Epoch 89/100\n",
      "105/105 [==============================] - 0s 101us/step - loss: 0.4283 - acc: 0.7905 - val_loss: 0.3172 - val_acc: 1.0000\n",
      "Epoch 90/100\n",
      "105/105 [==============================] - 0s 93us/step - loss: 0.4276 - acc: 0.9429 - val_loss: 0.3104 - val_acc: 1.0000\n",
      "Epoch 91/100\n",
      "105/105 [==============================] - 0s 79us/step - loss: 0.4295 - acc: 0.8667 - val_loss: 0.3302 - val_acc: 0.9545\n",
      "Epoch 92/100\n",
      "105/105 [==============================] - 0s 99us/step - loss: 0.4201 - acc: 0.9048 - val_loss: 0.3191 - val_acc: 0.9545\n",
      "Epoch 93/100\n",
      "105/105 [==============================] - 0s 91us/step - loss: 0.4227 - acc: 0.9429 - val_loss: 0.3136 - val_acc: 0.9545\n",
      "Epoch 94/100\n",
      "105/105 [==============================] - 0s 95us/step - loss: 0.4191 - acc: 0.9714 - val_loss: 0.3160 - val_acc: 0.9545\n",
      "Epoch 95/100\n",
      "105/105 [==============================] - 0s 93us/step - loss: 0.4190 - acc: 0.9619 - val_loss: 0.3102 - val_acc: 0.9545\n",
      "Epoch 96/100\n",
      "105/105 [==============================] - 0s 95us/step - loss: 0.4161 - acc: 0.9524 - val_loss: 0.3003 - val_acc: 1.0000\n",
      "Epoch 97/100\n",
      "105/105 [==============================] - 0s 100us/step - loss: 0.4215 - acc: 0.8476 - val_loss: 0.3161 - val_acc: 0.9545\n",
      "Epoch 98/100\n",
      "105/105 [==============================] - 0s 86us/step - loss: 0.4116 - acc: 0.9048 - val_loss: 0.2974 - val_acc: 1.0000\n",
      "Epoch 99/100\n",
      "105/105 [==============================] - 0s 78us/step - loss: 0.4139 - acc: 0.9619 - val_loss: 0.3068 - val_acc: 0.9545\n",
      "Epoch 100/100\n",
      "105/105 [==============================] - 0s 78us/step - loss: 0.4112 - acc: 0.9524 - val_loss: 0.3107 - val_acc: 0.9545\n"
     ]
    },
    {
     "ename": "NameError",
     "evalue": "name 'np' is not defined",
     "output_type": "error",
     "traceback": [
      "\u001b[0;31m---------------------------------------------------------------------------\u001b[0m",
      "\u001b[0;31mNameError\u001b[0m                                 Traceback (most recent call last)",
      "\u001b[0;32m<ipython-input-223-ed4fcf7fb0d7>\u001b[0m in \u001b[0;36m<module>\u001b[0;34m()\u001b[0m\n\u001b[1;32m      2\u001b[0m \u001b[0my_pred\u001b[0m \u001b[0;34m=\u001b[0m \u001b[0mmodel\u001b[0m\u001b[0;34m.\u001b[0m\u001b[0mpredict\u001b[0m\u001b[0;34m(\u001b[0m\u001b[0mX_test\u001b[0m\u001b[0;34m)\u001b[0m\u001b[0;34m\u001b[0m\u001b[0m\n\u001b[1;32m      3\u001b[0m \u001b[0;34m\u001b[0m\u001b[0m\n\u001b[0;32m----> 4\u001b[0;31m \u001b[0my_test_class\u001b[0m \u001b[0;34m=\u001b[0m \u001b[0mnp\u001b[0m\u001b[0;34m.\u001b[0m\u001b[0margmax\u001b[0m\u001b[0;34m(\u001b[0m\u001b[0my_test\u001b[0m\u001b[0;34m,\u001b[0m\u001b[0maxis\u001b[0m\u001b[0;34m=\u001b[0m\u001b[0;36m1\u001b[0m\u001b[0;34m)\u001b[0m\u001b[0;34m\u001b[0m\u001b[0m\n\u001b[0m\u001b[1;32m      5\u001b[0m \u001b[0my_pred_class\u001b[0m \u001b[0;34m=\u001b[0m \u001b[0mnp\u001b[0m\u001b[0;34m.\u001b[0m\u001b[0margmax\u001b[0m\u001b[0;34m(\u001b[0m\u001b[0my_pred\u001b[0m\u001b[0;34m,\u001b[0m\u001b[0maxis\u001b[0m\u001b[0;34m=\u001b[0m\u001b[0;36m1\u001b[0m\u001b[0;34m)\u001b[0m\u001b[0;34m\u001b[0m\u001b[0m\n",
      "\u001b[0;31mNameError\u001b[0m: name 'np' is not defined"
     ]
    }
   ],
   "source": [
    "hist = model.fit(X_train,Y_train,epochs=100, validation_data=(X_val, Y_val))\n",
    "y_pred = model.predict(X_test)\n",
    "\n",
    "y_test_class = np.argmax(y_test,axis=1)\n",
    "y_pred_class = np.argmax(y_pred,axis=1)"
   ]
  },
  {
   "cell_type": "code",
   "execution_count": null,
   "metadata": {},
   "outputs": [],
   "source": [
    "model.evaluate(X_test, Y_test)"
   ]
  },
  {
   "cell_type": "code",
   "execution_count": 224,
   "metadata": {
    "scrolled": true
   },
   "outputs": [
    {
     "data": {
      "image/png": "[encoded data removed]",
      "text/plain": [
       "<Figure size 432x288 with 1 Axes>"
      ]
     },
     "metadata": {
      "needs_background": "light"
     },
     "output_type": "display_data"
    }
   ],
   "source": [
    "plt.plot(hist.history['loss'])\n",
    "plt.plot(hist.history['val_loss'])\n",
    "plt.title('Model loss')\n",
    "plt.ylabel('Loss')\n",
    "plt.xlabel('Epoch')\n",
    "plt.legend(['Train', 'Val'], loc='upper right')\n",
    "plt.show()"
   ]
  },
  {
   "cell_type": "code",
   "execution_count": 225,
   "metadata": {},
   "outputs": [
    {
     "data": {
      "image/png": "[encoded data removed]",
      "text/plain": [
       "<Figure size 432x288 with 1 Axes>"
      ]
     },
     "metadata": {
      "needs_background": "light"
     },
     "output_type": "display_data"
    }
   ],
   "source": [
    "plt.plot(hist.history['acc'])\n",
    "plt.plot(hist.history['val_acc'])\n",
    "plt.title('Model accuracy')\n",
    "plt.ylabel('Accuracy')\n",
    "plt.xlabel('Epoch')\n",
    "plt.legend(['Train', 'Val'], loc='lower right')\n",
    "plt.show()"
   ]
  },
  {
   "cell_type": "code",
   "execution_count": null,
   "metadata": {},
   "outputs": [],
   "source": []
  },
  {
   "cell_type": "code",
   "execution_count": null,
   "metadata": {},
   "outputs": [],
   "source": []
  },
  {
   "cell_type": "code",
   "execution_count": null,
   "metadata": {},
   "outputs": [],
   "source": []
  },
  {
   "cell_type": "code",
   "execution_count": null,
   "metadata": {},
   "outputs": [],
   "source": []
  },
  {
   "cell_type": "code",
   "execution_count": null,
   "metadata": {},
   "outputs": [],
   "source": []
  },
  {
   "cell_type": "code",
   "execution_count": null,
   "metadata": {},
   "outputs": [],
   "source": []
  },
  {
   "cell_type": "code",
   "execution_count": null,
   "metadata": {},
   "outputs": [],
   "source": []
  },
  {
   "cell_type": "code",
   "execution_count": null,
   "metadata": {},
   "outputs": [],
   "source": []
  },
  {
   "cell_type": "code",
   "execution_count": null,
   "metadata": {},
   "outputs": [],
   "source": []
  },
  {
   "cell_type": "code",
   "execution_count": null,
   "metadata": {},
   "outputs": [],
   "source": []
  },
  {
   "cell_type": "code",
   "execution_count": null,
   "metadata": {},
   "outputs": [],
   "source": []
  },
  {
   "cell_type": "code",
   "execution_count": null,
   "metadata": {},
   "outputs": [],
   "source": []
  },
  {
   "cell_type": "code",
   "execution_count": null,
   "metadata": {},
   "outputs": [],
   "source": []
  },
  {
   "cell_type": "code",
   "execution_count": null,
   "metadata": {},
   "outputs": [],
   "source": []
  }
 ],
 "metadata": {
  "kernelspec": {
   "display_name": "Python 2",
   "language": "python",
   "name": "python2"
  },
  "language_info": {
   "codemirror_mode": {
    "name": "ipython",
    "version": 2
   },
   "file_extension": ".py",
   "mimetype": "text/x-python",
   "name": "python",
   "nbconvert_exporter": "python",
   "pygments_lexer": "ipython2",
   "version": "2.7.16"
  }
 },
 "nbformat": 4,
 "nbformat_minor": 2
}
